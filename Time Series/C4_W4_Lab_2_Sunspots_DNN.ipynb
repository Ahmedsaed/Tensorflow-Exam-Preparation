{
 "cells": [
  {
   "cell_type": "markdown",
   "metadata": {},
   "source": [
    "<a href=\"https://colab.research.google.com/github/https-deeplearning-ai/tensorflow-1-public/blob/main/C4/W4/ungraded_labs/C4_W4_Lab_2_Sunspots_DNN.ipynb\" target=\"_parent\"><img src=\"https://colab.research.google.com/assets/colab-badge.svg\" alt=\"Open In Colab\"/></a>"
   ]
  },
  {
   "cell_type": "markdown",
   "metadata": {
    "id": "JQsk1BKwZrBh"
   },
   "source": [
    "# Ungraded Lab: Predicting Sunspots with Neural Networks (DNN only)\n",
    "\n",
    "In the remaining labs for this week, you will move away from synthetic time series and start building models for real world data. In particular, you will train on the [Sunspots](https://www.kaggle.com/datasets/robervalt/sunspots) dataset: a monthly record of sunspot numbers from January 1749 to July 2018. You will first build a deep neural network here composed of dense layers. This will act as your baseline so you can compare it to the next lab where you will use a more complex architecture.\n",
    "\n",
    "Let's begin!"
   ]
  },
  {
   "cell_type": "markdown",
   "metadata": {
    "id": "2JHlrB12aeFD"
   },
   "source": [
    "## Imports\n",
    "\n",
    "You will use the same imports as before with the addition of the [csv](https://docs.python.org/3/library/csv.html) module. You will need this to parse the CSV file containing the dataset."
   ]
  },
  {
   "cell_type": "code",
   "execution_count": 1,
   "metadata": {
    "id": "56XEQOGknrAk"
   },
   "outputs": [
    {
     "name": "stderr",
     "output_type": "stream",
     "text": [
      "2022-08-03 02:43:09.207049: W tensorflow/stream_executor/platform/default/dso_loader.cc:64] Could not load dynamic library 'libcudart.so.11.0'; dlerror: libcudart.so.11.0: cannot open shared object file: No such file or directory\n",
      "2022-08-03 02:43:09.207088: I tensorflow/stream_executor/cuda/cudart_stub.cc:29] Ignore above cudart dlerror if you do not have a GPU set up on your machine.\n"
     ]
    }
   ],
   "source": [
    "import tensorflow as tf\n",
    "import numpy as np\n",
    "import matplotlib.pyplot as plt\n",
    "import csv"
   ]
  },
  {
   "cell_type": "markdown",
   "metadata": {
    "id": "D-mNttnaagBH"
   },
   "source": [
    "## Utilities\n",
    "\n",
    "You will only have the `plot_series()` dataset here because you no longer need the synthetic data generation functions."
   ]
  },
  {
   "cell_type": "code",
   "execution_count": 2,
   "metadata": {
    "id": "sLl52leVp5wU"
   },
   "outputs": [],
   "source": [
    "def plot_series(x, y, format=\"-\", start=0, end=None, \n",
    "                title=None, xlabel=None, ylabel=None, legend=None ):\n",
    "    \"\"\"\n",
    "    Visualizes time series data\n",
    "\n",
    "    Args:\n",
    "      x (array of int) - contains values for the x-axis\n",
    "      y (array of int or tuple of arrays) - contains the values for the y-axis\n",
    "      format (string) - line style when plotting the graph\n",
    "      label (string) - tag for the line\n",
    "      start (int) - first time step to plot\n",
    "      end (int) - last time step to plot\n",
    "      title (string) - title of the plot\n",
    "      xlabel (string) - label for the x-axis\n",
    "      ylabel (string) - label for the y-axis\n",
    "      legend (list of strings) - legend for the plot\n",
    "    \"\"\"\n",
    "\n",
    "    # Setup dimensions of the graph figure\n",
    "    plt.figure(figsize=(10, 6))\n",
    "    \n",
    "    # Check if there are more than two series to plot\n",
    "    if type(y) is tuple:\n",
    "\n",
    "      # Loop over the y elements\n",
    "      for y_curr in y:\n",
    "\n",
    "        # Plot the x and current y values\n",
    "        plt.plot(x[start:end], y_curr[start:end], format)\n",
    "\n",
    "    else:\n",
    "      # Plot the x and y values\n",
    "      plt.plot(x[start:end], y[start:end], format)\n",
    "\n",
    "    # Label the x-axis\n",
    "    plt.xlabel(xlabel)\n",
    "\n",
    "    # Label the y-axis\n",
    "    plt.ylabel(ylabel)\n",
    "\n",
    "    # Set the legend\n",
    "    if legend:\n",
    "      plt.legend(legend)\n",
    "\n",
    "    # Set the title\n",
    "    plt.title(title)\n",
    "\n",
    "    # Overlay a grid on the graph\n",
    "    plt.grid(True)\n",
    "\n",
    "    # Draw the graph on screen\n",
    "    plt.show()"
   ]
  },
  {
   "cell_type": "markdown",
   "metadata": {
    "id": "dFJv45pDauS8"
   },
   "source": [
    "## Download and Preview the Dataset\n",
    "\n",
    "You can now download the dataset and inspect the contents. The link in class is from Laurence's repo but we also hosted it in the link below."
   ]
  },
  {
   "cell_type": "code",
   "execution_count": 3,
   "metadata": {
    "id": "YwI-si5xyUkQ"
   },
   "outputs": [
    {
     "name": "stdout",
     "output_type": "stream",
     "text": [
      "--2022-08-03 02:43:14--  https://storage.googleapis.com/tensorflow-1-public/course4/Sunspots.csv\n",
      "Loaded CA certificate '/etc/ssl/certs/ca-certificates.crt'\n",
      "Resolving storage.googleapis.com (storage.googleapis.com)... 142.250.200.208, 142.250.200.240, 142.250.201.16, ...\n",
      "Connecting to storage.googleapis.com (storage.googleapis.com)|142.250.200.208|:443... connected.\n",
      "HTTP request sent, awaiting response... 200 OK\n",
      "Length: 70827 (69K) [text/csv]\n",
      "Saving to: ‘Sunspots.csv’\n",
      "\n",
      "Sunspots.csv        100%[===================>]  69.17K  --.-KB/s    in 0.1s    \n",
      "\n",
      "2022-08-03 02:43:15 (586 KB/s) - ‘Sunspots.csv’ saved [70827/70827]\n",
      "\n"
     ]
    }
   ],
   "source": [
    "# Download the dataset\n",
    "!wget https://storage.googleapis.com/tensorflow-1-public/course4/Sunspots.csv"
   ]
  },
  {
   "cell_type": "markdown",
   "metadata": {
    "id": "c0fAiMytrwPJ"
   },
   "source": [
    "Running the cell below, you'll see that there are only three columns in the dataset:\n",
    "1. untitled column containing the month number\n",
    "2. Date which has the format `YYYY-MM-DD`\n",
    "3. Mean Total Sunspot Number"
   ]
  },
  {
   "cell_type": "code",
   "execution_count": 4,
   "metadata": {
    "id": "d5W2auXKrhVh"
   },
   "outputs": [
    {
     "name": "stdout",
     "output_type": "stream",
     "text": [
      ",Date,Monthly Mean Total Sunspot Number\n",
      "0,1749-01-31,96.7\n",
      "1,1749-02-28,104.3\n",
      "2,1749-03-31,116.7\n",
      "3,1749-04-30,92.8\n",
      "4,1749-05-31,141.7\n",
      "5,1749-06-30,139.2\n",
      "6,1749-07-31,158.0\n",
      "7,1749-08-31,110.5\n",
      "8,1749-09-30,126.5\n"
     ]
    }
   ],
   "source": [
    "# Preview the dataset\n",
    "!head Sunspots.csv"
   ]
  },
  {
   "cell_type": "markdown",
   "metadata": {
    "id": "lbs-Y2SDsVaw"
   },
   "source": [
    "For this lab and the next, you will only need the month number and the mean total sunspot number. You will load those into memory and convert it to arrays that represents a time series."
   ]
  },
  {
   "cell_type": "code",
   "execution_count": 5,
   "metadata": {
    "id": "NcG9r1eClbTh"
   },
   "outputs": [
    {
     "data": {
      "image/png": "[encoded data removed]",
      "text/plain": [
       "<Figure size 720x432 with 1 Axes>"
      ]
     },
     "metadata": {
      "needs_background": "light"
     },
     "output_type": "display_data"
    }
   ],
   "source": [
    "# Initialize lists\n",
    "time_step = []\n",
    "sunspots = []\n",
    "\n",
    "# Open CSV file\n",
    "with open('./Sunspots.csv') as csvfile:\n",
    "  \n",
    "  # Initialize reader\n",
    "  reader = csv.reader(csvfile, delimiter=',')\n",
    "  \n",
    "  # Skip the first line\n",
    "  next(reader)\n",
    "  \n",
    "  # Append row and sunspot number to lists\n",
    "  for row in reader:\n",
    "    time_step.append(int(row[0]))\n",
    "    sunspots.append(float(row[2]))\n",
    "\n",
    "# Convert lists to numpy arrays\n",
    "time = np.array(time_step)\n",
    "series = np.array(sunspots)\n",
    "\n",
    "# Preview the data\n",
    "plot_series(time, series, xlabel='Month', ylabel='Monthly Mean Total Sunspot Number')"
   ]
  },
  {
   "cell_type": "markdown",
   "metadata": {
    "id": "EUQE9RRoazC5"
   },
   "source": [
    "## Split the Dataset\n",
    "\n",
    "Next, you will split the dataset into training and validation sets. There are 3235 points in the dataset and you will use the first 3000 for training."
   ]
  },
  {
   "cell_type": "code",
   "execution_count": 6,
   "metadata": {
    "id": "L92YRw_IpCFG"
   },
   "outputs": [],
   "source": [
    "# Define the split time\n",
    "split_time = 3000\n",
    "\n",
    "# Get the train set \n",
    "time_train = time[:split_time]\n",
    "x_train = series[:split_time]\n",
    "\n",
    "# Get the validation set\n",
    "time_valid = time[split_time:]\n",
    "x_valid = series[split_time:]"
   ]
  },
  {
   "cell_type": "markdown",
   "metadata": {
    "id": "RbuIOrb3a093"
   },
   "source": [
    "## Prepare Features and Labels\n",
    "\n",
    "You can then prepare the dataset windows as before. The window size is set to 30 points (equal to 2.5 years) but feel free to change later on if you want to experiment."
   ]
  },
  {
   "cell_type": "code",
   "execution_count": 7,
   "metadata": {
    "id": "lJwUUZscnG38"
   },
   "outputs": [],
   "source": [
    "def windowed_dataset(series, window_size, batch_size, shuffle_buffer):\n",
    "    \"\"\"Generates dataset windows\n",
    "\n",
    "    Args:\n",
    "      series (array of float) - contains the values of the time series\n",
    "      window_size (int) - the number of time steps to include in the feature\n",
    "      batch_size (int) - the batch size\n",
    "      shuffle_buffer(int) - buffer size to use for the shuffle method\n",
    "\n",
    "    Returns:\n",
    "      dataset (TF Dataset) - TF Dataset containing time windows\n",
    "    \"\"\"\n",
    "  \n",
    "    # Generate a TF Dataset from the series values\n",
    "    dataset = tf.data.Dataset.from_tensor_slices(series)\n",
    "    \n",
    "    # Window the data but only take those with the specified size\n",
    "    dataset = dataset.window(window_size + 1, shift=1, drop_remainder=True)\n",
    "    \n",
    "    # Flatten the windows by putting its elements in a single batch\n",
    "    dataset = dataset.flat_map(lambda window: window.batch(window_size + 1))\n",
    "\n",
    "    # Create tuples with features and labels \n",
    "    dataset = dataset.map(lambda window: (window[:-1], window[-1]))\n",
    "\n",
    "    # Shuffle the windows\n",
    "    dataset = dataset.shuffle(shuffle_buffer)\n",
    "    \n",
    "    # Create batches of windows\n",
    "    dataset = dataset.batch(batch_size).prefetch(1)\n",
    "    \n",
    "    return dataset"
   ]
  },
  {
   "cell_type": "code",
   "execution_count": 8,
   "metadata": {
    "id": "9g5zSxZwZQt_"
   },
   "outputs": [
    {
     "name": "stderr",
     "output_type": "stream",
     "text": [
      "2022-08-03 02:43:16.787434: W tensorflow/stream_executor/platform/default/dso_loader.cc:64] Could not load dynamic library 'libcuda.so.1'; dlerror: libcuda.so.1: cannot open shared object file: No such file or directory\n",
      "2022-08-03 02:43:16.787484: W tensorflow/stream_executor/cuda/cuda_driver.cc:269] failed call to cuInit: UNKNOWN ERROR (303)\n",
      "2022-08-03 02:43:16.787523: I tensorflow/stream_executor/cuda/cuda_diagnostics.cc:156] kernel driver does not appear to be running on this host (Main-Desktop-Linux): /proc/driver/nvidia/version does not exist\n"
     ]
    }
   ],
   "source": [
    "# Parameters\n",
    "window_size = 30\n",
    "batch_size = 32\n",
    "shuffle_buffer_size = 1000\n",
    "\n",
    "# Generate the dataset windows\n",
    "train_set = windowed_dataset(x_train, window_size, batch_size, shuffle_buffer_size)"
   ]
  },
  {
   "cell_type": "markdown",
   "metadata": {
    "id": "_Lhpi42ta5yP"
   },
   "source": [
    "## Build the Model\n",
    "\n",
    "The model will be 3-layer dense network as shown below."
   ]
  },
  {
   "cell_type": "code",
   "execution_count": 9,
   "metadata": {
    "id": "AclfYY3Mn6Ph"
   },
   "outputs": [
    {
     "name": "stdout",
     "output_type": "stream",
     "text": [
      "Model: \"sequential\"\n",
      "_________________________________________________________________\n",
      " Layer (type)                Output Shape              Param #   \n",
      "=================================================================\n",
      " dense (Dense)               (None, 30)                930       \n",
      "                                                                 \n",
      " dense_1 (Dense)             (None, 10)                310       \n",
      "                                                                 \n",
      " dense_2 (Dense)             (None, 1)                 11        \n",
      "                                                                 \n",
      "=================================================================\n",
      "Total params: 1,251\n",
      "Trainable params: 1,251\n",
      "Non-trainable params: 0\n",
      "_________________________________________________________________\n"
     ]
    }
   ],
   "source": [
    "# Build the model\n",
    "model = tf.keras.models.Sequential([\n",
    "    tf.keras.layers.Dense(30, input_shape=[window_size], activation=\"relu\"), \n",
    "    tf.keras.layers.Dense(10, activation=\"relu\"),\n",
    "    tf.keras.layers.Dense(1)\n",
    "])\n",
    "\n",
    "# Print the model summary\n",
    "model.summary()"
   ]
  },
  {
   "cell_type": "markdown",
   "metadata": {
    "id": "uyT14hQOa97V"
   },
   "source": [
    "## Tune the Learning Rate\n",
    "\n",
    "You can pick a learning rate by running the same learning rate scheduler code from previous labs."
   ]
  },
  {
   "cell_type": "code",
   "execution_count": 10,
   "metadata": {
    "id": "GXiqsZQ1y4nD"
   },
   "outputs": [
    {
     "name": "stdout",
     "output_type": "stream",
     "text": [
      "Epoch 1/100\n",
      "93/93 [==============================] - 2s 12ms/step - loss: 27.9522 - lr: 1.0000e-08\n",
      "Epoch 2/100\n",
      "93/93 [==============================] - 1s 4ms/step - loss: 27.0269 - lr: 1.1220e-08\n",
      "Epoch 3/100\n",
      "93/93 [==============================] - 1s 5ms/step - loss: 26.1353 - lr: 1.2589e-08\n",
      "Epoch 4/100\n",
      "93/93 [==============================] - 1s 4ms/step - loss: 25.3582 - lr: 1.4125e-08\n",
      "Epoch 5/100\n",
      "93/93 [==============================] - 1s 4ms/step - loss: 24.6999 - lr: 1.5849e-08\n",
      "Epoch 6/100\n",
      "93/93 [==============================] - 1s 4ms/step - loss: 24.1650 - lr: 1.7783e-08\n",
      "Epoch 7/100\n",
      "93/93 [==============================] - 1s 4ms/step - loss: 23.7511 - lr: 1.9953e-08\n",
      "Epoch 8/100\n",
      "93/93 [==============================] - 1s 4ms/step - loss: 23.4296 - lr: 2.2387e-08\n",
      "Epoch 9/100\n",
      "93/93 [==============================] - 1s 4ms/step - loss: 23.2028 - lr: 2.5119e-08\n",
      "Epoch 10/100\n",
      "93/93 [==============================] - 1s 6ms/step - loss: 23.0501 - lr: 2.8184e-08\n",
      "Epoch 11/100\n",
      "93/93 [==============================] - 1s 7ms/step - loss: 22.9524 - lr: 3.1623e-08\n",
      "Epoch 12/100\n",
      "93/93 [==============================] - 1s 7ms/step - loss: 22.8894 - lr: 3.5481e-08\n",
      "Epoch 13/100\n",
      "93/93 [==============================] - 1s 6ms/step - loss: 22.8498 - lr: 3.9811e-08\n",
      "Epoch 14/100\n",
      "93/93 [==============================] - 1s 5ms/step - loss: 22.8165 - lr: 4.4668e-08\n",
      "Epoch 15/100\n",
      "93/93 [==============================] - 1s 4ms/step - loss: 22.7935 - lr: 5.0119e-08\n",
      "Epoch 16/100\n",
      "93/93 [==============================] - 1s 5ms/step - loss: 22.7696 - lr: 5.6234e-08\n",
      "Epoch 17/100\n",
      "93/93 [==============================] - 1s 6ms/step - loss: 22.7479 - lr: 6.3096e-08\n",
      "Epoch 18/100\n",
      "93/93 [==============================] - 1s 6ms/step - loss: 22.7183 - lr: 7.0795e-08\n",
      "Epoch 19/100\n",
      "93/93 [==============================] - 1s 6ms/step - loss: 22.6909 - lr: 7.9433e-08\n",
      "Epoch 20/100\n",
      "93/93 [==============================] - 1s 6ms/step - loss: 22.6601 - lr: 8.9125e-08\n",
      "Epoch 21/100\n",
      "93/93 [==============================] - 1s 5ms/step - loss: 22.6261 - lr: 1.0000e-07\n",
      "Epoch 22/100\n",
      "93/93 [==============================] - 1s 5ms/step - loss: 22.5880 - lr: 1.1220e-07\n",
      "Epoch 23/100\n",
      "93/93 [==============================] - 1s 6ms/step - loss: 22.5425 - lr: 1.2589e-07\n",
      "Epoch 24/100\n",
      "93/93 [==============================] - 1s 5ms/step - loss: 22.4970 - lr: 1.4125e-07\n",
      "Epoch 25/100\n",
      "93/93 [==============================] - 1s 7ms/step - loss: 22.4489 - lr: 1.5849e-07\n",
      "Epoch 26/100\n",
      "93/93 [==============================] - 1s 5ms/step - loss: 22.3933 - lr: 1.7783e-07\n",
      "Epoch 27/100\n",
      "93/93 [==============================] - 1s 5ms/step - loss: 22.3293 - lr: 1.9953e-07\n",
      "Epoch 28/100\n",
      "93/93 [==============================] - 1s 5ms/step - loss: 22.2701 - lr: 2.2387e-07\n",
      "Epoch 29/100\n",
      "93/93 [==============================] - 1s 6ms/step - loss: 22.1995 - lr: 2.5119e-07\n",
      "Epoch 30/100\n",
      "93/93 [==============================] - 1s 6ms/step - loss: 22.1394 - lr: 2.8184e-07\n",
      "Epoch 31/100\n",
      "93/93 [==============================] - 1s 5ms/step - loss: 22.0349 - lr: 3.1623e-07\n",
      "Epoch 32/100\n",
      "93/93 [==============================] - 1s 6ms/step - loss: 21.9649 - lr: 3.5481e-07\n",
      "Epoch 33/100\n",
      "93/93 [==============================] - 1s 6ms/step - loss: 21.8471 - lr: 3.9811e-07\n",
      "Epoch 34/100\n",
      "93/93 [==============================] - 1s 5ms/step - loss: 21.7595 - lr: 4.4668e-07\n",
      "Epoch 35/100\n",
      "93/93 [==============================] - 1s 5ms/step - loss: 21.6345 - lr: 5.0119e-07\n",
      "Epoch 36/100\n",
      "93/93 [==============================] - 1s 5ms/step - loss: 21.5033 - lr: 5.6234e-07\n",
      "Epoch 37/100\n",
      "93/93 [==============================] - 1s 6ms/step - loss: 21.3754 - lr: 6.3096e-07\n",
      "Epoch 38/100\n",
      "93/93 [==============================] - 1s 7ms/step - loss: 21.2537 - lr: 7.0795e-07\n",
      "Epoch 39/100\n",
      "93/93 [==============================] - 1s 5ms/step - loss: 21.1262 - lr: 7.9433e-07\n",
      "Epoch 40/100\n",
      "93/93 [==============================] - 1s 6ms/step - loss: 20.9898 - lr: 8.9125e-07\n",
      "Epoch 41/100\n",
      "93/93 [==============================] - 1s 7ms/step - loss: 20.8221 - lr: 1.0000e-06\n",
      "Epoch 42/100\n",
      "93/93 [==============================] - 1s 5ms/step - loss: 20.6945 - lr: 1.1220e-06\n",
      "Epoch 43/100\n",
      "93/93 [==============================] - 1s 6ms/step - loss: 20.5958 - lr: 1.2589e-06\n",
      "Epoch 44/100\n",
      "93/93 [==============================] - 1s 6ms/step - loss: 20.3102 - lr: 1.4125e-06\n",
      "Epoch 45/100\n",
      "93/93 [==============================] - 1s 5ms/step - loss: 20.1478 - lr: 1.5849e-06\n",
      "Epoch 46/100\n",
      "93/93 [==============================] - 1s 6ms/step - loss: 20.0029 - lr: 1.7783e-06\n",
      "Epoch 47/100\n",
      "93/93 [==============================] - 1s 5ms/step - loss: 19.8580 - lr: 1.9953e-06\n",
      "Epoch 48/100\n",
      "93/93 [==============================] - 1s 4ms/step - loss: 19.6635 - lr: 2.2387e-06\n",
      "Epoch 49/100\n",
      "93/93 [==============================] - 1s 5ms/step - loss: 19.4725 - lr: 2.5119e-06\n",
      "Epoch 50/100\n",
      "93/93 [==============================] - 1s 6ms/step - loss: 19.2969 - lr: 2.8184e-06\n",
      "Epoch 51/100\n",
      "93/93 [==============================] - 1s 6ms/step - loss: 19.2044 - lr: 3.1623e-06\n",
      "Epoch 52/100\n",
      "93/93 [==============================] - 1s 6ms/step - loss: 19.0399 - lr: 3.5481e-06\n",
      "Epoch 53/100\n",
      "93/93 [==============================] - 1s 6ms/step - loss: 18.9534 - lr: 3.9811e-06\n",
      "Epoch 54/100\n",
      "93/93 [==============================] - 1s 5ms/step - loss: 18.8620 - lr: 4.4668e-06\n",
      "Epoch 55/100\n",
      "93/93 [==============================] - 1s 6ms/step - loss: 18.9222 - lr: 5.0119e-06\n",
      "Epoch 56/100\n",
      "93/93 [==============================] - 1s 5ms/step - loss: 18.5477 - lr: 5.6234e-06\n",
      "Epoch 57/100\n",
      "93/93 [==============================] - 1s 4ms/step - loss: 18.6334 - lr: 6.3096e-06\n",
      "Epoch 58/100\n",
      "93/93 [==============================] - 1s 5ms/step - loss: 18.4380 - lr: 7.0795e-06\n",
      "Epoch 59/100\n",
      "93/93 [==============================] - 1s 5ms/step - loss: 18.2440 - lr: 7.9433e-06\n",
      "Epoch 60/100\n",
      "93/93 [==============================] - 1s 5ms/step - loss: 18.2345 - lr: 8.9125e-06\n",
      "Epoch 61/100\n",
      "93/93 [==============================] - 1s 6ms/step - loss: 18.0647 - lr: 1.0000e-05\n",
      "Epoch 62/100\n",
      "93/93 [==============================] - 1s 4ms/step - loss: 18.0695 - lr: 1.1220e-05\n",
      "Epoch 63/100\n",
      "93/93 [==============================] - 1s 5ms/step - loss: 18.1857 - lr: 1.2589e-05\n",
      "Epoch 64/100\n",
      "93/93 [==============================] - 1s 5ms/step - loss: 18.1609 - lr: 1.4125e-05\n",
      "Epoch 65/100\n",
      "93/93 [==============================] - 1s 6ms/step - loss: 17.7429 - lr: 1.5849e-05\n",
      "Epoch 66/100\n",
      "93/93 [==============================] - 1s 5ms/step - loss: 17.9436 - lr: 1.7783e-05\n",
      "Epoch 67/100\n",
      "93/93 [==============================] - 1s 5ms/step - loss: 17.9052 - lr: 1.9953e-05\n",
      "Epoch 68/100\n",
      "93/93 [==============================] - 1s 6ms/step - loss: 18.0312 - lr: 2.2387e-05\n",
      "Epoch 69/100\n",
      "93/93 [==============================] - 1s 5ms/step - loss: 18.1008 - lr: 2.5119e-05\n",
      "Epoch 70/100\n",
      "93/93 [==============================] - 1s 5ms/step - loss: 18.0436 - lr: 2.8184e-05\n",
      "Epoch 71/100\n",
      "93/93 [==============================] - 1s 6ms/step - loss: 17.3413 - lr: 3.1623e-05\n",
      "Epoch 72/100\n",
      "93/93 [==============================] - 1s 5ms/step - loss: 17.6181 - lr: 3.5481e-05\n",
      "Epoch 73/100\n",
      "93/93 [==============================] - 1s 6ms/step - loss: 17.7665 - lr: 3.9811e-05\n",
      "Epoch 74/100\n",
      "93/93 [==============================] - 1s 5ms/step - loss: 17.5594 - lr: 4.4668e-05\n",
      "Epoch 75/100\n",
      "93/93 [==============================] - 1s 4ms/step - loss: 17.7327 - lr: 5.0119e-05\n",
      "Epoch 76/100\n",
      "93/93 [==============================] - 1s 5ms/step - loss: 18.9013 - lr: 5.6234e-05\n",
      "Epoch 77/100\n",
      "93/93 [==============================] - 1s 5ms/step - loss: 17.7376 - lr: 6.3096e-05\n",
      "Epoch 78/100\n",
      "93/93 [==============================] - 1s 5ms/step - loss: 17.9999 - lr: 7.0795e-05\n",
      "Epoch 79/100\n",
      "93/93 [==============================] - 1s 6ms/step - loss: 17.4482 - lr: 7.9433e-05\n",
      "Epoch 80/100\n",
      "93/93 [==============================] - 1s 5ms/step - loss: 17.8810 - lr: 8.9125e-05\n",
      "Epoch 81/100\n",
      "93/93 [==============================] - 1s 5ms/step - loss: 18.1800 - lr: 1.0000e-04\n",
      "Epoch 82/100\n",
      "93/93 [==============================] - 1s 5ms/step - loss: 17.7838 - lr: 1.1220e-04\n",
      "Epoch 83/100\n",
      "93/93 [==============================] - 1s 5ms/step - loss: 18.3193 - lr: 1.2589e-04\n",
      "Epoch 84/100\n",
      "93/93 [==============================] - 1s 5ms/step - loss: 18.2532 - lr: 1.4125e-04\n",
      "Epoch 85/100\n",
      "93/93 [==============================] - 1s 5ms/step - loss: 17.5781 - lr: 1.5849e-04\n",
      "Epoch 86/100\n",
      "93/93 [==============================] - 1s 4ms/step - loss: 18.6802 - lr: 1.7783e-04\n",
      "Epoch 87/100\n",
      "93/93 [==============================] - 1s 5ms/step - loss: 17.9481 - lr: 1.9953e-04\n",
      "Epoch 88/100\n",
      "93/93 [==============================] - 1s 5ms/step - loss: 20.1121 - lr: 2.2387e-04\n",
      "Epoch 89/100\n",
      "93/93 [==============================] - 1s 7ms/step - loss: 19.2272 - lr: 2.5119e-04\n",
      "Epoch 90/100\n",
      "93/93 [==============================] - 1s 5ms/step - loss: 18.6282 - lr: 2.8184e-04\n",
      "Epoch 91/100\n",
      "93/93 [==============================] - 1s 6ms/step - loss: 21.6122 - lr: 3.1623e-04\n",
      "Epoch 92/100\n",
      "93/93 [==============================] - 1s 6ms/step - loss: 19.1181 - lr: 3.5481e-04\n",
      "Epoch 93/100\n",
      "93/93 [==============================] - 1s 8ms/step - loss: 19.5120 - lr: 3.9811e-04\n",
      "Epoch 94/100\n",
      "93/93 [==============================] - 1s 6ms/step - loss: 22.1097 - lr: 4.4668e-04\n",
      "Epoch 95/100\n",
      "93/93 [==============================] - 1s 6ms/step - loss: 25.8870 - lr: 5.0119e-04\n",
      "Epoch 96/100\n",
      "93/93 [==============================] - 1s 5ms/step - loss: 20.0348 - lr: 5.6234e-04\n",
      "Epoch 97/100\n",
      "93/93 [==============================] - 1s 5ms/step - loss: 26.0673 - lr: 6.3096e-04\n",
      "Epoch 98/100\n",
      "93/93 [==============================] - 1s 6ms/step - loss: 28.1755 - lr: 7.0795e-04\n",
      "Epoch 99/100\n",
      "93/93 [==============================] - 1s 6ms/step - loss: 29.8272 - lr: 7.9433e-04\n",
      "Epoch 100/100\n",
      "93/93 [==============================] - 1s 5ms/step - loss: 37.3404 - lr: 8.9125e-04\n"
     ]
    }
   ],
   "source": [
    "# Set the learning rate scheduler\n",
    "lr_schedule = tf.keras.callbacks.LearningRateScheduler(\n",
    "    lambda epoch: 1e-8 * 10**(epoch / 20))\n",
    "\n",
    "# Initialize the optimizer\n",
    "optimizer = tf.keras.optimizers.SGD(momentum=0.9)\n",
    "\n",
    "# Set the training parameters\n",
    "model.compile(loss=tf.keras.losses.Huber(), optimizer=optimizer)\n",
    "\n",
    "# Train the model\n",
    "history = model.fit(train_set, epochs=100, callbacks=[lr_schedule])"
   ]
  },
  {
   "cell_type": "code",
   "execution_count": 11,
   "metadata": {
    "id": "xJFAB1NTzGJV"
   },
   "outputs": [
    {
     "data": {
      "text/plain": [
       "(1e-08, 0.001, 0.0, 100.0)"
      ]
     },
     "execution_count": 11,
     "metadata": {},
     "output_type": "execute_result"
    },
    {
     "data": {
      "image/png": "[encoded data removed]",
      "text/plain": [
       "<Figure size 720x432 with 1 Axes>"
      ]
     },
     "metadata": {
      "needs_background": "light"
     },
     "output_type": "display_data"
    }
   ],
   "source": [
    "# Define the learning rate array\n",
    "lrs = 1e-8 * (10 ** (np.arange(100) / 20))\n",
    "\n",
    "# Set the figure size\n",
    "plt.figure(figsize=(10, 6))\n",
    "\n",
    "# Set the grid\n",
    "plt.grid(True)\n",
    "\n",
    "# Plot the loss in log scale\n",
    "plt.semilogx(lrs, history.history[\"loss\"])\n",
    "\n",
    "# Increase the tickmarks size\n",
    "plt.tick_params('both', length=10, width=1, which='both')\n",
    "\n",
    "# Set the plot boundaries\n",
    "plt.axis([1e-8, 1e-3, 0, 100])"
   ]
  },
  {
   "cell_type": "markdown",
   "metadata": {
    "id": "oY4mnUpNbFdc"
   },
   "source": [
    "## Train the Model\n",
    "\n",
    "Once you've picked a learning rate, you can rebuild the model and start training."
   ]
  },
  {
   "cell_type": "code",
   "execution_count": 12,
   "metadata": {
    "id": "Ngna3zR4znJd"
   },
   "outputs": [],
   "source": [
    "# Reset states generated by Keras\n",
    "tf.keras.backend.clear_session()\n",
    "\n",
    "# Build the Model\n",
    "model = tf.keras.models.Sequential([\n",
    "    tf.keras.layers.Dense(30, input_shape=[window_size], activation=\"relu\"), \n",
    "    tf.keras.layers.Dense(10, activation=\"relu\"),\n",
    "    tf.keras.layers.Dense(1)\n",
    "])"
   ]
  },
  {
   "cell_type": "code",
   "execution_count": 13,
   "metadata": {
    "id": "7FKXvEYxzuoc"
   },
   "outputs": [
    {
     "name": "stdout",
     "output_type": "stream",
     "text": [
      "Epoch 1/100\n",
      "93/93 [==============================] - 1s 5ms/step - loss: 27.0782 - mae: 27.5717\n",
      "Epoch 2/100\n",
      "93/93 [==============================] - 1s 6ms/step - loss: 19.5042 - mae: 19.9976\n",
      "Epoch 3/100\n",
      "93/93 [==============================] - 1s 7ms/step - loss: 18.6786 - mae: 19.1698\n",
      "Epoch 4/100\n",
      "93/93 [==============================] - 1s 5ms/step - loss: 18.4545 - mae: 18.9479\n",
      "Epoch 5/100\n",
      "93/93 [==============================] - 1s 5ms/step - loss: 18.9864 - mae: 19.4787\n",
      "Epoch 6/100\n",
      "93/93 [==============================] - 1s 5ms/step - loss: 17.9521 - mae: 18.4452\n",
      "Epoch 7/100\n",
      "93/93 [==============================] - 1s 6ms/step - loss: 18.2119 - mae: 18.7047\n",
      "Epoch 8/100\n",
      "93/93 [==============================] - 1s 6ms/step - loss: 18.2471 - mae: 18.7393\n",
      "Epoch 9/100\n",
      "93/93 [==============================] - 1s 5ms/step - loss: 17.7208 - mae: 18.2142\n",
      "Epoch 10/100\n",
      "93/93 [==============================] - 1s 5ms/step - loss: 17.6467 - mae: 18.1395\n",
      "Epoch 11/100\n",
      "93/93 [==============================] - 1s 4ms/step - loss: 17.9580 - mae: 18.4504\n",
      "Epoch 12/100\n",
      "93/93 [==============================] - 1s 4ms/step - loss: 17.7908 - mae: 18.2824\n",
      "Epoch 13/100\n",
      "93/93 [==============================] - 1s 5ms/step - loss: 17.4394 - mae: 17.9315\n",
      "Epoch 14/100\n",
      "93/93 [==============================] - 1s 6ms/step - loss: 18.0664 - mae: 18.5585\n",
      "Epoch 15/100\n",
      "93/93 [==============================] - 1s 5ms/step - loss: 17.7584 - mae: 18.2519\n",
      "Epoch 16/100\n",
      "93/93 [==============================] - 1s 5ms/step - loss: 17.1859 - mae: 17.6774\n",
      "Epoch 17/100\n",
      "93/93 [==============================] - 1s 5ms/step - loss: 17.5123 - mae: 18.0029\n",
      "Epoch 18/100\n",
      "93/93 [==============================] - 1s 6ms/step - loss: 17.4107 - mae: 17.9012\n",
      "Epoch 19/100\n",
      "93/93 [==============================] - 1s 6ms/step - loss: 17.7168 - mae: 18.2083\n",
      "Epoch 20/100\n",
      "93/93 [==============================] - 1s 5ms/step - loss: 17.4674 - mae: 17.9584\n",
      "Epoch 21/100\n",
      "93/93 [==============================] - 1s 6ms/step - loss: 17.2725 - mae: 17.7656\n",
      "Epoch 22/100\n",
      "93/93 [==============================] - 1s 5ms/step - loss: 17.3018 - mae: 17.7930\n",
      "Epoch 23/100\n",
      "93/93 [==============================] - 1s 7ms/step - loss: 17.4304 - mae: 17.9226\n",
      "Epoch 24/100\n",
      "93/93 [==============================] - 1s 8ms/step - loss: 17.1521 - mae: 17.6439\n",
      "Epoch 25/100\n",
      "93/93 [==============================] - 1s 6ms/step - loss: 17.1620 - mae: 17.6530\n",
      "Epoch 26/100\n",
      "93/93 [==============================] - 1s 6ms/step - loss: 17.1138 - mae: 17.6053\n",
      "Epoch 27/100\n",
      "93/93 [==============================] - 1s 5ms/step - loss: 17.0989 - mae: 17.5904\n",
      "Epoch 28/100\n",
      "93/93 [==============================] - 1s 6ms/step - loss: 17.1089 - mae: 17.6000\n",
      "Epoch 29/100\n",
      "93/93 [==============================] - 1s 5ms/step - loss: 17.1490 - mae: 17.6404\n",
      "Epoch 30/100\n",
      "93/93 [==============================] - 1s 5ms/step - loss: 17.3124 - mae: 17.8042\n",
      "Epoch 31/100\n",
      "93/93 [==============================] - 1s 7ms/step - loss: 17.0130 - mae: 17.5047\n",
      "Epoch 32/100\n",
      "93/93 [==============================] - 1s 5ms/step - loss: 17.0606 - mae: 17.5525\n",
      "Epoch 33/100\n",
      "93/93 [==============================] - 1s 5ms/step - loss: 17.1583 - mae: 17.6492\n",
      "Epoch 34/100\n",
      "93/93 [==============================] - 1s 6ms/step - loss: 17.2976 - mae: 17.7893\n",
      "Epoch 35/100\n",
      "93/93 [==============================] - 1s 6ms/step - loss: 16.8972 - mae: 17.3886\n",
      "Epoch 36/100\n",
      "93/93 [==============================] - 1s 6ms/step - loss: 16.7251 - mae: 17.2160\n",
      "Epoch 37/100\n",
      "93/93 [==============================] - 1s 5ms/step - loss: 17.0438 - mae: 17.5343\n",
      "Epoch 38/100\n",
      "93/93 [==============================] - 1s 6ms/step - loss: 16.9205 - mae: 17.4119\n",
      "Epoch 39/100\n",
      "93/93 [==============================] - 1s 7ms/step - loss: 16.9050 - mae: 17.3974\n",
      "Epoch 40/100\n",
      "93/93 [==============================] - 1s 9ms/step - loss: 16.8904 - mae: 17.3821\n",
      "Epoch 41/100\n",
      "93/93 [==============================] - 1s 6ms/step - loss: 16.9248 - mae: 17.4157\n",
      "Epoch 42/100\n",
      "93/93 [==============================] - 1s 9ms/step - loss: 16.7527 - mae: 17.2435\n",
      "Epoch 43/100\n",
      "93/93 [==============================] - 1s 6ms/step - loss: 16.8210 - mae: 17.3132\n",
      "Epoch 44/100\n",
      "93/93 [==============================] - 1s 6ms/step - loss: 16.8081 - mae: 17.2989\n",
      "Epoch 45/100\n",
      "93/93 [==============================] - 1s 5ms/step - loss: 16.8947 - mae: 17.3858\n",
      "Epoch 46/100\n",
      "93/93 [==============================] - 1s 5ms/step - loss: 17.0023 - mae: 17.4917\n",
      "Epoch 47/100\n",
      "93/93 [==============================] - 1s 5ms/step - loss: 17.0824 - mae: 17.5741\n",
      "Epoch 48/100\n",
      "93/93 [==============================] - 1s 5ms/step - loss: 16.8685 - mae: 17.3605\n",
      "Epoch 49/100\n",
      "93/93 [==============================] - 1s 6ms/step - loss: 16.8690 - mae: 17.3597\n",
      "Epoch 50/100\n",
      "93/93 [==============================] - 1s 5ms/step - loss: 16.6568 - mae: 17.1480\n",
      "Epoch 51/100\n",
      "93/93 [==============================] - 1s 6ms/step - loss: 16.7443 - mae: 17.2344\n",
      "Epoch 52/100\n",
      "93/93 [==============================] - 1s 5ms/step - loss: 16.7613 - mae: 17.2524\n",
      "Epoch 53/100\n",
      "93/93 [==============================] - 1s 6ms/step - loss: 16.7221 - mae: 17.2122\n",
      "Epoch 54/100\n",
      "93/93 [==============================] - 1s 5ms/step - loss: 16.6073 - mae: 17.0989\n",
      "Epoch 55/100\n",
      "93/93 [==============================] - 1s 6ms/step - loss: 16.6680 - mae: 17.1585\n",
      "Epoch 56/100\n",
      "93/93 [==============================] - 1s 5ms/step - loss: 16.9004 - mae: 17.3903\n",
      "Epoch 57/100\n",
      "93/93 [==============================] - 1s 6ms/step - loss: 17.0148 - mae: 17.5049\n",
      "Epoch 58/100\n",
      "93/93 [==============================] - 1s 9ms/step - loss: 16.6500 - mae: 17.1415\n",
      "Epoch 59/100\n",
      "93/93 [==============================] - 1s 8ms/step - loss: 16.9425 - mae: 17.4326\n",
      "Epoch 60/100\n",
      "93/93 [==============================] - 1s 8ms/step - loss: 16.7103 - mae: 17.2011\n",
      "Epoch 61/100\n",
      "93/93 [==============================] - 1s 6ms/step - loss: 16.6444 - mae: 17.1357\n",
      "Epoch 62/100\n",
      "93/93 [==============================] - 1s 6ms/step - loss: 16.6333 - mae: 17.1238\n",
      "Epoch 63/100\n",
      "93/93 [==============================] - 1s 6ms/step - loss: 16.6260 - mae: 17.1157\n",
      "Epoch 64/100\n",
      "93/93 [==============================] - 1s 6ms/step - loss: 16.5862 - mae: 17.0784\n",
      "Epoch 65/100\n",
      "93/93 [==============================] - 1s 5ms/step - loss: 16.4476 - mae: 16.9379\n",
      "Epoch 66/100\n",
      "93/93 [==============================] - 1s 4ms/step - loss: 16.7768 - mae: 17.2676\n",
      "Epoch 67/100\n",
      "93/93 [==============================] - 1s 6ms/step - loss: 16.7550 - mae: 17.2453\n",
      "Epoch 68/100\n",
      "93/93 [==============================] - 1s 5ms/step - loss: 16.7062 - mae: 17.1963\n",
      "Epoch 69/100\n",
      "93/93 [==============================] - 1s 6ms/step - loss: 16.5310 - mae: 17.0208\n",
      "Epoch 70/100\n",
      "93/93 [==============================] - 1s 5ms/step - loss: 16.6185 - mae: 17.1092\n",
      "Epoch 71/100\n",
      "93/93 [==============================] - 1s 6ms/step - loss: 16.6808 - mae: 17.1699\n",
      "Epoch 72/100\n",
      "93/93 [==============================] - 1s 5ms/step - loss: 16.7468 - mae: 17.2388\n",
      "Epoch 73/100\n",
      "93/93 [==============================] - 1s 5ms/step - loss: 16.5178 - mae: 17.0075\n",
      "Epoch 74/100\n",
      "93/93 [==============================] - 1s 5ms/step - loss: 16.4555 - mae: 16.9449\n",
      "Epoch 75/100\n",
      "93/93 [==============================] - 1s 5ms/step - loss: 16.4804 - mae: 16.9690\n",
      "Epoch 76/100\n",
      "93/93 [==============================] - 1s 6ms/step - loss: 16.6374 - mae: 17.1276\n",
      "Epoch 77/100\n",
      "93/93 [==============================] - 1s 5ms/step - loss: 16.5084 - mae: 16.9986\n",
      "Epoch 78/100\n",
      "93/93 [==============================] - 1s 5ms/step - loss: 16.5424 - mae: 17.0329\n",
      "Epoch 79/100\n",
      "93/93 [==============================] - 1s 5ms/step - loss: 16.5139 - mae: 17.0044\n",
      "Epoch 80/100\n",
      "93/93 [==============================] - 1s 6ms/step - loss: 16.4127 - mae: 16.9029\n",
      "Epoch 81/100\n",
      "93/93 [==============================] - 1s 6ms/step - loss: 16.4456 - mae: 16.9341\n",
      "Epoch 82/100\n",
      "93/93 [==============================] - 1s 5ms/step - loss: 16.4206 - mae: 16.9100\n",
      "Epoch 83/100\n",
      "93/93 [==============================] - 1s 5ms/step - loss: 16.4824 - mae: 16.9732\n",
      "Epoch 84/100\n",
      "93/93 [==============================] - 1s 6ms/step - loss: 16.3809 - mae: 16.8693\n",
      "Epoch 85/100\n",
      "93/93 [==============================] - 1s 5ms/step - loss: 16.6282 - mae: 17.1178\n",
      "Epoch 86/100\n",
      "93/93 [==============================] - 1s 4ms/step - loss: 16.5655 - mae: 17.0567\n",
      "Epoch 87/100\n",
      "93/93 [==============================] - 1s 5ms/step - loss: 16.8994 - mae: 17.3899\n",
      "Epoch 88/100\n",
      "93/93 [==============================] - 1s 4ms/step - loss: 16.4194 - mae: 16.9090\n",
      "Epoch 89/100\n",
      "93/93 [==============================] - 1s 5ms/step - loss: 16.4233 - mae: 16.9138\n",
      "Epoch 90/100\n",
      "93/93 [==============================] - 1s 5ms/step - loss: 16.4551 - mae: 16.9460\n",
      "Epoch 91/100\n",
      "93/93 [==============================] - 1s 5ms/step - loss: 16.3827 - mae: 16.8734\n",
      "Epoch 92/100\n",
      "93/93 [==============================] - 0s 4ms/step - loss: 16.3640 - mae: 16.8534\n",
      "Epoch 93/100\n",
      "93/93 [==============================] - 0s 4ms/step - loss: 16.2361 - mae: 16.7277\n",
      "Epoch 94/100\n",
      "93/93 [==============================] - 1s 4ms/step - loss: 16.4170 - mae: 16.9080\n",
      "Epoch 95/100\n",
      "93/93 [==============================] - 1s 4ms/step - loss: 16.4630 - mae: 16.9528\n",
      "Epoch 96/100\n",
      "93/93 [==============================] - 0s 4ms/step - loss: 16.4126 - mae: 16.9030\n",
      "Epoch 97/100\n",
      "93/93 [==============================] - 0s 3ms/step - loss: 16.6217 - mae: 17.1121\n",
      "Epoch 98/100\n",
      "93/93 [==============================] - 0s 3ms/step - loss: 16.5174 - mae: 17.0078\n",
      "Epoch 99/100\n",
      "93/93 [==============================] - 0s 3ms/step - loss: 16.3159 - mae: 16.8059\n",
      "Epoch 100/100\n",
      "93/93 [==============================] - 0s 4ms/step - loss: 16.3087 - mae: 16.7986\n"
     ]
    }
   ],
   "source": [
    "# Set the learning rate\n",
    "learning_rate = 2e-5\n",
    "\n",
    "# Set the optimizer \n",
    "optimizer = tf.keras.optimizers.SGD(learning_rate=learning_rate, momentum=0.9)\n",
    "\n",
    "# Set the training parameters\n",
    "model.compile(loss=tf.keras.losses.Huber(),\n",
    "              optimizer=optimizer,\n",
    "              metrics=[\"mae\"])\n",
    "\n",
    "# Train the model\n",
    "history = model.fit(train_set,epochs=100)"
   ]
  },
  {
   "cell_type": "markdown",
   "metadata": {
    "id": "b1iV2t8ibIka"
   },
   "source": [
    "## Model Prediction\n",
    "\n",
    "Now see if the model generates good results. If you used the default parameters of this notebook, you should see the predictions follow the shape of the ground truth with an MAE of around 15. "
   ]
  },
  {
   "cell_type": "code",
   "execution_count": 14,
   "metadata": {
    "id": "djn06Tri2B6_"
   },
   "outputs": [],
   "source": [
    "def model_forecast(model, series, window_size, batch_size):\n",
    "    \"\"\"Uses an input model to generate predictions on data windows\n",
    "\n",
    "    Args:\n",
    "      model (TF Keras Model) - model that accepts data windows\n",
    "      series (array of float) - contains the values of the time series\n",
    "      window_size (int) - the number of time steps to include in the window\n",
    "      batch_size (int) - the batch size\n",
    "\n",
    "    Returns:\n",
    "      forecast (numpy array) - array containing predictions\n",
    "    \"\"\"\n",
    "\n",
    "    # Generate a TF Dataset from the series values\n",
    "    dataset = tf.data.Dataset.from_tensor_slices(series)\n",
    "\n",
    "    # Window the data but only take those with the specified size\n",
    "    dataset = dataset.window(window_size, shift=1, drop_remainder=True)\n",
    "\n",
    "    # Flatten the windows by putting its elements in a single batch\n",
    "    dataset = dataset.flat_map(lambda w: w.batch(window_size))\n",
    "    \n",
    "    # Create batches of windows\n",
    "    dataset = dataset.batch(batch_size).prefetch(1)\n",
    "    \n",
    "    # Get predictions on the entire dataset\n",
    "    forecast = model.predict(dataset)\n",
    "    \n",
    "    return forecast"
   ]
  },
  {
   "cell_type": "code",
   "execution_count": 15,
   "metadata": {
    "id": "GaC6NNMRp0lb"
   },
   "outputs": [
    {
     "name": "stdout",
     "output_type": "stream",
     "text": [
      "8/8 [==============================] - 0s 6ms/step\n"
     ]
    },
    {
     "data": {
      "image/png": "[encoded data removed]",
      "text/plain": [
       "<Figure size 720x432 with 1 Axes>"
      ]
     },
     "metadata": {
      "needs_background": "light"
     },
     "output_type": "display_data"
    }
   ],
   "source": [
    "# Reduce the original series\n",
    "forecast_series = series[split_time-window_size:-1]\n",
    "\n",
    "# Use helper function to generate predictions\n",
    "forecast = model_forecast(model, forecast_series, window_size, batch_size)\n",
    "\n",
    "# Drop single dimensional axis\n",
    "results = forecast.squeeze()\n",
    "\n",
    "# Plot the results\n",
    "plot_series(time_valid, (x_valid, results))"
   ]
  },
  {
   "cell_type": "code",
   "execution_count": 16,
   "metadata": {
    "id": "13XrorC5wQoE"
   },
   "outputs": [
    {
     "name": "stdout",
     "output_type": "stream",
     "text": [
      "14.412033\n"
     ]
    }
   ],
   "source": [
    "# Compute the MAE\n",
    "print(tf.keras.metrics.mean_absolute_error(x_valid, results).numpy())"
   ]
  },
  {
   "cell_type": "markdown",
   "metadata": {
    "id": "YqMGN9S5veN2"
   },
   "source": [
    "## Wrap Up\n",
    "\n",
    "In this lab, you built a relatively simple DNN to forecast sunspot numbers for a given month. We encourage you to tweak the parameters or train longer and see the best results you can get. In the next lab, you will build a more complex model and you evaluate if the added complexity translates to better or worse results."
   ]
  }
 ],
 "metadata": {
  "colab": {
   "collapsed_sections": [],
   "name": "C4_W4_Lab_2_Sunspots_DNN.ipynb",
   "private_outputs": true,
   "provenance": [
    {
     "file_id": "https://github.com/https-deeplearning-ai/tensorflow-1-public/blob/adding_C4/C4/W4/ungraded_labs/C4_W4_Lab_3_DNN_only.ipynb",
     "timestamp": 1641292790865
    }
   ]
  },
  "kernelspec": {
   "display_name": "Python 3.10.5 ('ML-TensorFlow')",
   "language": "python",
   "name": "python3"
  },
  "language_info": {
   "codemirror_mode": {
    "name": "ipython",
    "version": 3
   },
   "file_extension": ".py",
   "mimetype": "text/x-python",
   "name": "python",
   "nbconvert_exporter": "python",
   "pygments_lexer": "ipython3",
   "version": "3.10.5"
  },
  "vscode": {
   "interpreter": {
    "hash": "d1f66bc1465963b37814a3c70c368474aa589106cfea63a6b29249f75798022b"
   }
  }
 },
 "nbformat": 4,
 "nbformat_minor": 1
}

{
 "cells": [
  {
   "cell_type": "markdown",
   "metadata": {},
   "source": [
    "<a href=\"https://colab.research.google.com/github/https-deeplearning-ai/tensorflow-1-public/blob/main/C4/W3/ungraded_labs/C4_W3_Lab_2_LSTM.ipynb\" target=\"_parent\"><img src=\"https://colab.research.google.com/assets/colab-badge.svg\" alt=\"Open In Colab\"/></a>"
   ]
  },
  {
   "cell_type": "markdown",
   "metadata": {
    "id": "sV_nvXSQGJPK"
   },
   "source": [
    "# Ungraded Lab: Using a multi-layer LSTM for forecasting\n",
    "\n",
    "In this lab, you will use the same RNN architecure in the first lab but will instead stack [LSTM](https://www.tensorflow.org/api_docs/python/tf/keras/layers/LSTM) layers instead of `SimpleRNN`."
   ]
  },
  {
   "cell_type": "markdown",
   "metadata": {
    "id": "3IMbAWETGOWD"
   },
   "source": [
    "## Imports"
   ]
  },
  {
   "cell_type": "code",
   "execution_count": 1,
   "metadata": {
    "id": "BOjujz601HcS"
   },
   "outputs": [
    {
     "name": "stderr",
     "output_type": "stream",
     "text": [
      "2022-08-03 02:00:15.534220: W tensorflow/stream_executor/platform/default/dso_loader.cc:64] Could not load dynamic library 'libcudart.so.11.0'; dlerror: libcudart.so.11.0: cannot open shared object file: No such file or directory\n",
      "2022-08-03 02:00:15.534267: I tensorflow/stream_executor/cuda/cudart_stub.cc:29] Ignore above cudart dlerror if you do not have a GPU set up on your machine.\n"
     ]
    }
   ],
   "source": [
    "import tensorflow as tf\n",
    "import numpy as np\n",
    "import matplotlib.pyplot as plt"
   ]
  },
  {
   "cell_type": "markdown",
   "metadata": {
    "id": "kD7RQQ0xGQVH"
   },
   "source": [
    "## Utilities"
   ]
  },
  {
   "cell_type": "code",
   "execution_count": 2,
   "metadata": {
    "id": "Zswl7jRtGzkk"
   },
   "outputs": [],
   "source": [
    "def plot_series(time, series, format=\"-\", start=0, end=None):\n",
    "    \"\"\"\n",
    "    Visualizes time series data\n",
    "\n",
    "    Args:\n",
    "      time (array of int) - contains the time steps\n",
    "      series (array of int) - contains the measurements for each time step\n",
    "      format - line style when plotting the graph\n",
    "      start - first time step to plot\n",
    "      end - last time step to plot\n",
    "    \"\"\"\n",
    "\n",
    "    # Setup dimensions of the graph figure\n",
    "    plt.figure(figsize=(10, 6))\n",
    "    \n",
    "    if type(series) is tuple:\n",
    "\n",
    "      for series_num in series:\n",
    "        # Plot the time series data\n",
    "        plt.plot(time[start:end], series_num[start:end], format)\n",
    "\n",
    "    else:\n",
    "      # Plot the time series data\n",
    "      plt.plot(time[start:end], series[start:end], format)\n",
    "\n",
    "    # Label the x-axis\n",
    "    plt.xlabel(\"Time\")\n",
    "\n",
    "    # Label the y-axis\n",
    "    plt.ylabel(\"Value\")\n",
    "\n",
    "    # Overlay a grid on the graph\n",
    "    plt.grid(True)\n",
    "\n",
    "    # Draw the graph on screen\n",
    "    plt.show()\n",
    "\n",
    "def trend(time, slope=0):\n",
    "    \"\"\"\n",
    "    Generates synthetic data that follows a straight line given a slope value.\n",
    "\n",
    "    Args:\n",
    "      time (array of int) - contains the time steps\n",
    "      slope (float) - determines the direction and steepness of the line\n",
    "\n",
    "    Returns:\n",
    "      series (array of float) - measurements that follow a straight line\n",
    "    \"\"\"\n",
    "\n",
    "    # Compute the linear series given the slope\n",
    "    series = slope * time\n",
    "\n",
    "    return series\n",
    "\n",
    "def seasonal_pattern(season_time):\n",
    "    \"\"\"\n",
    "    Just an arbitrary pattern, you can change it if you wish\n",
    "    \n",
    "    Args:\n",
    "      season_time (array of float) - contains the measurements per time step\n",
    "\n",
    "    Returns:\n",
    "      data_pattern (array of float) -  contains revised measurement values according \n",
    "                                  to the defined pattern\n",
    "    \"\"\"\n",
    "\n",
    "    # Generate the values using an arbitrary pattern\n",
    "    data_pattern = np.where(season_time < 0.4,\n",
    "                    np.cos(season_time * 2 * np.pi),\n",
    "                    1 / np.exp(3 * season_time))\n",
    "    \n",
    "    return data_pattern\n",
    "\n",
    "def seasonality(time, period, amplitude=1, phase=0):\n",
    "    \"\"\"\n",
    "    Repeats the same pattern at each period\n",
    "\n",
    "    Args:\n",
    "      time (array of int) - contains the time steps\n",
    "      period (int) - number of time steps before the pattern repeats\n",
    "      amplitude (int) - peak measured value in a period\n",
    "      phase (int) - number of time steps to shift the measured values\n",
    "\n",
    "    Returns:\n",
    "      data_pattern (array of float) - seasonal data scaled by the defined amplitude\n",
    "    \"\"\"\n",
    "    \n",
    "    # Define the measured values per period\n",
    "    season_time = ((time + phase) % period) / period\n",
    "\n",
    "    # Generates the seasonal data scaled by the defined amplitude\n",
    "    data_pattern = amplitude * seasonal_pattern(season_time)\n",
    "\n",
    "    return data_pattern\n",
    "\n",
    "def noise(time, noise_level=1, seed=None):\n",
    "    \"\"\"Generates a normally distributed noisy signal\n",
    "\n",
    "    Args:\n",
    "      time (array of int) - contains the time steps\n",
    "      noise_level (float) - scaling factor for the generated signal\n",
    "      seed (int) - number generator seed for repeatability\n",
    "\n",
    "    Returns:\n",
    "      noise (array of float) - the noisy signal\n",
    "    \"\"\"\n",
    "\n",
    "    # Initialize the random number generator\n",
    "    rnd = np.random.RandomState(seed)\n",
    "\n",
    "    # Generate a random number for each time step and scale by the noise level\n",
    "    noise = rnd.randn(len(time)) * noise_level\n",
    "    \n",
    "    return noise"
   ]
  },
  {
   "cell_type": "markdown",
   "metadata": {
    "id": "yxNyeFWjGSdj"
   },
   "source": [
    "## Generate the Synthetic Data"
   ]
  },
  {
   "cell_type": "code",
   "execution_count": 3,
   "metadata": {
    "id": "KYEUfDbdpHPm"
   },
   "outputs": [
    {
     "data": {
      "image/png": "[encoded data removed]",
      "text/plain": [
       "<Figure size 720x432 with 1 Axes>"
      ]
     },
     "metadata": {
      "needs_background": "light"
     },
     "output_type": "display_data"
    }
   ],
   "source": [
    "# Parameters\n",
    "time = np.arange(4 * 365 + 1, dtype=\"float32\")\n",
    "baseline = 10\n",
    "amplitude = 40\n",
    "slope = 0.05\n",
    "noise_level = 5\n",
    "\n",
    "# Create the series\n",
    "series = baseline + trend(time, slope) + seasonality(time, period=365, amplitude=amplitude)\n",
    "\n",
    "# Update with noise\n",
    "series += noise(time, noise_level, seed=42)\n",
    "\n",
    "# Plot the results\n",
    "plot_series(time, series)"
   ]
  },
  {
   "cell_type": "markdown",
   "metadata": {
    "id": "MYKCvv-eGWRc"
   },
   "source": [
    "## Split the Dataset"
   ]
  },
  {
   "cell_type": "code",
   "execution_count": 4,
   "metadata": {
    "id": "hpp0slenpKVD"
   },
   "outputs": [],
   "source": [
    "# Define the split time\n",
    "split_time = 1000\n",
    "\n",
    "# Get the train set \n",
    "time_train = time[:split_time]\n",
    "x_train = series[:split_time]\n",
    "\n",
    "# Get the validation set\n",
    "time_valid = time[split_time:]\n",
    "x_valid = series[split_time:]"
   ]
  },
  {
   "cell_type": "markdown",
   "metadata": {
    "id": "cktHz9aOGYtV"
   },
   "source": [
    "## Prepare Features and Labels"
   ]
  },
  {
   "cell_type": "code",
   "execution_count": 5,
   "metadata": {
    "id": "G_j_2_Mqwn7-"
   },
   "outputs": [],
   "source": [
    "# Parameters\n",
    "window_size = 20\n",
    "batch_size = 32\n",
    "shuffle_buffer_size = 1000"
   ]
  },
  {
   "cell_type": "code",
   "execution_count": 6,
   "metadata": {
    "id": "4sTTIOCbyShY"
   },
   "outputs": [],
   "source": [
    "def windowed_dataset(series, window_size, batch_size, shuffle_buffer):\n",
    "    \"\"\"Generates dataset windows\n",
    "\n",
    "    Args:\n",
    "      series (array of float) - contains the values of the time series\n",
    "      window_size (int) - the number of time steps to include in the feature\n",
    "      batch_size (int) - the batch size\n",
    "      shuffle_buffer(int) - buffer size to use for the shuffle method\n",
    "\n",
    "    Returns:\n",
    "      dataset (TF Dataset) - TF Dataset containing time windows\n",
    "    \"\"\"\n",
    "  \n",
    "    # Generate a TF Dataset from the series values\n",
    "    dataset = tf.data.Dataset.from_tensor_slices(series)\n",
    "    \n",
    "    # Window the data but only take those with the specified size\n",
    "    dataset = dataset.window(window_size + 1, shift=1, drop_remainder=True)\n",
    "    \n",
    "    # Flatten the windows by putting its elements in a single batch\n",
    "    dataset = dataset.flat_map(lambda window: window.batch(window_size + 1))\n",
    "\n",
    "    # Create tuples with features and labels \n",
    "    dataset = dataset.map(lambda window: (window[:-1], window[-1]))\n",
    "\n",
    "    # Shuffle the windows\n",
    "    dataset = dataset.shuffle(shuffle_buffer)\n",
    "    \n",
    "    # Create batches of windows\n",
    "    dataset = dataset.batch(batch_size).prefetch(1)\n",
    "    \n",
    "    return dataset"
   ]
  },
  {
   "cell_type": "code",
   "execution_count": 7,
   "metadata": {
    "id": "vGj5-InSwtQQ"
   },
   "outputs": [
    {
     "name": "stderr",
     "output_type": "stream",
     "text": [
      "2022-08-03 02:00:20.425840: W tensorflow/stream_executor/platform/default/dso_loader.cc:64] Could not load dynamic library 'libcuda.so.1'; dlerror: libcuda.so.1: cannot open shared object file: No such file or directory\n",
      "2022-08-03 02:00:20.425881: W tensorflow/stream_executor/cuda/cuda_driver.cc:269] failed call to cuInit: UNKNOWN ERROR (303)\n",
      "2022-08-03 02:00:20.425908: I tensorflow/stream_executor/cuda/cuda_diagnostics.cc:156] kernel driver does not appear to be running on this host (Main-Desktop-Linux): /proc/driver/nvidia/version does not exist\n"
     ]
    }
   ],
   "source": [
    "# Generate the dataset windows\n",
    "dataset = windowed_dataset(x_train, window_size, batch_size, shuffle_buffer_size)"
   ]
  },
  {
   "cell_type": "markdown",
   "metadata": {
    "id": "p9-Ke8ZaGcjd"
   },
   "source": [
    "## Build the Model\n",
    "\n",
    "As mentioned, you will swap `SimpleRNN` for `LSTM` in this lab. It is also set as bidirectional below but feel free to revise later and see what results you get. LSTMs are much more complex in their internal architecture than simpleRNNs. It implements a cell state that allows it to remember sequences better than simple implementations. This added complexity results in a bigger set of parameters to train and you'll see that when you print the model summary below."
   ]
  },
  {
   "cell_type": "code",
   "execution_count": 8,
   "metadata": {
    "id": "A1Hl39rklkLm"
   },
   "outputs": [
    {
     "name": "stdout",
     "output_type": "stream",
     "text": [
      "Model: \"sequential\"\n",
      "_________________________________________________________________\n",
      " Layer (type)                Output Shape              Param #   \n",
      "=================================================================\n",
      " lambda (Lambda)             (None, 20, 1)             0         \n",
      "                                                                 \n",
      " bidirectional (Bidirectiona  (None, 20, 64)           8704      \n",
      " l)                                                              \n",
      "                                                                 \n",
      " bidirectional_1 (Bidirectio  (None, 64)               24832     \n",
      " nal)                                                            \n",
      "                                                                 \n",
      " dense (Dense)               (None, 1)                 65        \n",
      "                                                                 \n",
      " lambda_1 (Lambda)           (None, 1)                 0         \n",
      "                                                                 \n",
      "=================================================================\n",
      "Total params: 33,601\n",
      "Trainable params: 33,601\n",
      "Non-trainable params: 0\n",
      "_________________________________________________________________\n"
     ]
    }
   ],
   "source": [
    "# Build the Model\n",
    "model_tune = tf.keras.models.Sequential([\n",
    "  tf.keras.layers.Lambda(lambda x: tf.expand_dims(x, axis=-1),\n",
    "                      input_shape=[window_size]),\n",
    "  tf.keras.layers.Bidirectional(tf.keras.layers.LSTM(32, return_sequences=True)),\n",
    "  tf.keras.layers.Bidirectional(tf.keras.layers.LSTM(32)),\n",
    "  tf.keras.layers.Dense(1),\n",
    "  tf.keras.layers.Lambda(lambda x: x * 100.0)\n",
    "])\n",
    "\n",
    "# Print the model summary\n",
    "model_tune.summary()"
   ]
  },
  {
   "cell_type": "markdown",
   "metadata": {
    "id": "FHaFblbwq0GV"
   },
   "source": [
    "## Tune the Learning Rate\n",
    "\n",
    "As usual, you will pick a learning rate by running the tuning code below."
   ]
  },
  {
   "cell_type": "code",
   "execution_count": 9,
   "metadata": {
    "id": "qE7al18qw48G"
   },
   "outputs": [
    {
     "name": "stdout",
     "output_type": "stream",
     "text": [
      "Epoch 1/100\n",
      "31/31 [==============================] - 9s 43ms/step - loss: 19.7049 - lr: 1.0000e-08\n",
      "Epoch 2/100\n",
      "31/31 [==============================] - 1s 28ms/step - loss: 18.9302 - lr: 1.1220e-08\n",
      "Epoch 3/100\n",
      "31/31 [==============================] - 1s 27ms/step - loss: 18.1630 - lr: 1.2589e-08\n",
      "Epoch 4/100\n",
      "31/31 [==============================] - 1s 28ms/step - loss: 17.4832 - lr: 1.4125e-08\n",
      "Epoch 5/100\n",
      "31/31 [==============================] - 1s 28ms/step - loss: 16.8729 - lr: 1.5849e-08\n",
      "Epoch 6/100\n",
      "31/31 [==============================] - 1s 28ms/step - loss: 16.2815 - lr: 1.7783e-08\n",
      "Epoch 7/100\n",
      "31/31 [==============================] - 1s 27ms/step - loss: 15.6710 - lr: 1.9953e-08\n",
      "Epoch 8/100\n",
      "31/31 [==============================] - 1s 30ms/step - loss: 15.0045 - lr: 2.2387e-08\n",
      "Epoch 9/100\n",
      "31/31 [==============================] - 1s 28ms/step - loss: 14.2988 - lr: 2.5119e-08\n",
      "Epoch 10/100\n",
      "31/31 [==============================] - 1s 31ms/step - loss: 13.6078 - lr: 2.8184e-08\n",
      "Epoch 11/100\n",
      "31/31 [==============================] - 1s 33ms/step - loss: 12.9604 - lr: 3.1623e-08\n",
      "Epoch 12/100\n",
      "31/31 [==============================] - 1s 33ms/step - loss: 12.3432 - lr: 3.5481e-08\n",
      "Epoch 13/100\n",
      "31/31 [==============================] - 1s 30ms/step - loss: 11.6981 - lr: 3.9811e-08\n",
      "Epoch 14/100\n",
      "31/31 [==============================] - 1s 30ms/step - loss: 10.7332 - lr: 4.4668e-08\n",
      "Epoch 15/100\n",
      "31/31 [==============================] - 1s 27ms/step - loss: 9.8657 - lr: 5.0119e-08\n",
      "Epoch 16/100\n",
      "31/31 [==============================] - 1s 29ms/step - loss: 9.4707 - lr: 5.6234e-08\n",
      "Epoch 17/100\n",
      "31/31 [==============================] - 1s 28ms/step - loss: 9.2294 - lr: 6.3096e-08\n",
      "Epoch 18/100\n",
      "31/31 [==============================] - 1s 29ms/step - loss: 8.9277 - lr: 7.0795e-08\n",
      "Epoch 19/100\n",
      "31/31 [==============================] - 1s 29ms/step - loss: 8.7579 - lr: 7.9433e-08\n",
      "Epoch 20/100\n",
      "31/31 [==============================] - 1s 28ms/step - loss: 8.6866 - lr: 8.9125e-08\n",
      "Epoch 21/100\n",
      "31/31 [==============================] - 1s 31ms/step - loss: 8.4365 - lr: 1.0000e-07\n",
      "Epoch 22/100\n",
      "31/31 [==============================] - 1s 28ms/step - loss: 8.2537 - lr: 1.1220e-07\n",
      "Epoch 23/100\n",
      "31/31 [==============================] - 1s 29ms/step - loss: 8.1499 - lr: 1.2589e-07\n",
      "Epoch 24/100\n",
      "31/31 [==============================] - 1s 29ms/step - loss: 8.0029 - lr: 1.4125e-07\n",
      "Epoch 25/100\n",
      "31/31 [==============================] - 1s 26ms/step - loss: 7.9813 - lr: 1.5849e-07\n",
      "Epoch 26/100\n",
      "31/31 [==============================] - 1s 25ms/step - loss: 7.6731 - lr: 1.7783e-07\n",
      "Epoch 27/100\n",
      "31/31 [==============================] - 1s 26ms/step - loss: 7.7766 - lr: 1.9953e-07\n",
      "Epoch 28/100\n",
      "31/31 [==============================] - 1s 31ms/step - loss: 7.4306 - lr: 2.2387e-07\n",
      "Epoch 29/100\n",
      "31/31 [==============================] - 1s 26ms/step - loss: 7.3982 - lr: 2.5119e-07\n",
      "Epoch 30/100\n",
      "31/31 [==============================] - 1s 28ms/step - loss: 7.2137 - lr: 2.8184e-07\n",
      "Epoch 31/100\n",
      "31/31 [==============================] - 1s 27ms/step - loss: 7.1032 - lr: 3.1623e-07\n",
      "Epoch 32/100\n",
      "31/31 [==============================] - 1s 26ms/step - loss: 6.9301 - lr: 3.5481e-07\n",
      "Epoch 33/100\n",
      "31/31 [==============================] - 1s 26ms/step - loss: 6.9069 - lr: 3.9811e-07\n",
      "Epoch 34/100\n",
      "31/31 [==============================] - 1s 25ms/step - loss: 6.6763 - lr: 4.4668e-07\n",
      "Epoch 35/100\n",
      "31/31 [==============================] - 1s 28ms/step - loss: 6.6243 - lr: 5.0119e-07\n",
      "Epoch 36/100\n",
      "31/31 [==============================] - 1s 26ms/step - loss: 6.4992 - lr: 5.6234e-07\n",
      "Epoch 37/100\n",
      "31/31 [==============================] - 1s 24ms/step - loss: 6.3756 - lr: 6.3096e-07\n",
      "Epoch 38/100\n",
      "31/31 [==============================] - 1s 24ms/step - loss: 6.3213 - lr: 7.0795e-07\n",
      "Epoch 39/100\n",
      "31/31 [==============================] - 1s 24ms/step - loss: 6.3541 - lr: 7.9433e-07\n",
      "Epoch 40/100\n",
      "31/31 [==============================] - 1s 27ms/step - loss: 6.2343 - lr: 8.9125e-07\n",
      "Epoch 41/100\n",
      "31/31 [==============================] - 1s 28ms/step - loss: 6.3363 - lr: 1.0000e-06\n",
      "Epoch 42/100\n",
      "31/31 [==============================] - 1s 26ms/step - loss: 6.1676 - lr: 1.1220e-06\n",
      "Epoch 43/100\n",
      "31/31 [==============================] - 1s 24ms/step - loss: 5.9118 - lr: 1.2589e-06\n",
      "Epoch 44/100\n",
      "31/31 [==============================] - 1s 28ms/step - loss: 5.8860 - lr: 1.4125e-06\n",
      "Epoch 45/100\n",
      "31/31 [==============================] - 1s 29ms/step - loss: 5.8812 - lr: 1.5849e-06\n",
      "Epoch 46/100\n",
      "31/31 [==============================] - 1s 22ms/step - loss: 5.9164 - lr: 1.7783e-06\n",
      "Epoch 47/100\n",
      "31/31 [==============================] - 1s 22ms/step - loss: 5.8322 - lr: 1.9953e-06\n",
      "Epoch 48/100\n",
      "31/31 [==============================] - 1s 30ms/step - loss: 5.8382 - lr: 2.2387e-06\n",
      "Epoch 49/100\n",
      "31/31 [==============================] - 1s 28ms/step - loss: 5.6033 - lr: 2.5119e-06\n",
      "Epoch 50/100\n",
      "31/31 [==============================] - 1s 30ms/step - loss: 5.5821 - lr: 2.8184e-06\n",
      "Epoch 51/100\n",
      "31/31 [==============================] - 1s 28ms/step - loss: 5.9482 - lr: 3.1623e-06\n",
      "Epoch 52/100\n",
      "31/31 [==============================] - 1s 29ms/step - loss: 5.4057 - lr: 3.5481e-06\n",
      "Epoch 53/100\n",
      "31/31 [==============================] - 1s 33ms/step - loss: 5.3912 - lr: 3.9811e-06\n",
      "Epoch 54/100\n",
      "31/31 [==============================] - 1s 31ms/step - loss: 5.2558 - lr: 4.4668e-06\n",
      "Epoch 55/100\n",
      "31/31 [==============================] - 1s 30ms/step - loss: 5.4946 - lr: 5.0119e-06\n",
      "Epoch 56/100\n",
      "31/31 [==============================] - 1s 28ms/step - loss: 5.1307 - lr: 5.6234e-06\n",
      "Epoch 57/100\n",
      "31/31 [==============================] - 1s 28ms/step - loss: 5.0183 - lr: 6.3096e-06\n",
      "Epoch 58/100\n",
      "31/31 [==============================] - 1s 30ms/step - loss: 5.0020 - lr: 7.0795e-06\n",
      "Epoch 59/100\n",
      "31/31 [==============================] - 1s 36ms/step - loss: 5.5969 - lr: 7.9433e-06\n",
      "Epoch 60/100\n",
      "31/31 [==============================] - 1s 42ms/step - loss: 5.4908 - lr: 8.9125e-06\n",
      "Epoch 61/100\n",
      "31/31 [==============================] - 1s 35ms/step - loss: 4.9596 - lr: 1.0000e-05\n",
      "Epoch 62/100\n",
      "31/31 [==============================] - 1s 28ms/step - loss: 4.9231 - lr: 1.1220e-05\n",
      "Epoch 63/100\n",
      "31/31 [==============================] - 1s 30ms/step - loss: 5.7674 - lr: 1.2589e-05\n",
      "Epoch 64/100\n",
      "31/31 [==============================] - 1s 26ms/step - loss: 5.4336 - lr: 1.4125e-05\n",
      "Epoch 65/100\n",
      "31/31 [==============================] - 1s 26ms/step - loss: 5.0438 - lr: 1.5849e-05\n",
      "Epoch 66/100\n",
      "31/31 [==============================] - 1s 27ms/step - loss: 6.0403 - lr: 1.7783e-05\n",
      "Epoch 67/100\n",
      "31/31 [==============================] - 1s 27ms/step - loss: 6.1186 - lr: 1.9953e-05\n",
      "Epoch 68/100\n",
      "31/31 [==============================] - 1s 26ms/step - loss: 5.3085 - lr: 2.2387e-05\n",
      "Epoch 69/100\n",
      "31/31 [==============================] - 1s 25ms/step - loss: 5.3390 - lr: 2.5119e-05\n",
      "Epoch 70/100\n",
      "31/31 [==============================] - 1s 24ms/step - loss: 5.9771 - lr: 2.8184e-05\n",
      "Epoch 71/100\n",
      "31/31 [==============================] - 1s 25ms/step - loss: 6.0125 - lr: 3.1623e-05\n",
      "Epoch 72/100\n",
      "31/31 [==============================] - 1s 25ms/step - loss: 5.3629 - lr: 3.5481e-05\n",
      "Epoch 73/100\n",
      "31/31 [==============================] - 1s 25ms/step - loss: 5.6693 - lr: 3.9811e-05\n",
      "Epoch 74/100\n",
      "31/31 [==============================] - 1s 27ms/step - loss: 5.9128 - lr: 4.4668e-05\n",
      "Epoch 75/100\n",
      "31/31 [==============================] - 1s 26ms/step - loss: 6.1446 - lr: 5.0119e-05\n",
      "Epoch 76/100\n",
      "31/31 [==============================] - 1s 26ms/step - loss: 5.6019 - lr: 5.6234e-05\n",
      "Epoch 77/100\n",
      "31/31 [==============================] - 1s 29ms/step - loss: 6.4483 - lr: 6.3096e-05\n",
      "Epoch 78/100\n",
      "31/31 [==============================] - 1s 27ms/step - loss: 7.2966 - lr: 7.0795e-05\n",
      "Epoch 79/100\n",
      "31/31 [==============================] - 1s 28ms/step - loss: 6.2741 - lr: 7.9433e-05\n",
      "Epoch 80/100\n",
      "31/31 [==============================] - 1s 25ms/step - loss: 6.9794 - lr: 8.9125e-05\n",
      "Epoch 81/100\n",
      "31/31 [==============================] - 1s 29ms/step - loss: 7.9784 - lr: 1.0000e-04\n",
      "Epoch 82/100\n",
      "31/31 [==============================] - 1s 24ms/step - loss: 5.4219 - lr: 1.1220e-04\n",
      "Epoch 83/100\n",
      "31/31 [==============================] - 1s 26ms/step - loss: 6.7548 - lr: 1.2589e-04\n",
      "Epoch 84/100\n",
      "31/31 [==============================] - 1s 26ms/step - loss: 6.0336 - lr: 1.4125e-04\n",
      "Epoch 85/100\n",
      "31/31 [==============================] - 1s 27ms/step - loss: 8.4945 - lr: 1.5849e-04\n",
      "Epoch 86/100\n",
      "31/31 [==============================] - 1s 27ms/step - loss: 9.2958 - lr: 1.7783e-04\n",
      "Epoch 87/100\n",
      "31/31 [==============================] - 1s 27ms/step - loss: 7.1976 - lr: 1.9953e-04\n",
      "Epoch 88/100\n",
      "31/31 [==============================] - 1s 28ms/step - loss: 8.4178 - lr: 2.2387e-04\n",
      "Epoch 89/100\n",
      "31/31 [==============================] - 1s 26ms/step - loss: 6.9530 - lr: 2.5119e-04\n",
      "Epoch 90/100\n",
      "31/31 [==============================] - 1s 25ms/step - loss: 9.3200 - lr: 2.8184e-04\n",
      "Epoch 91/100\n",
      "31/31 [==============================] - 1s 26ms/step - loss: 9.8211 - lr: 3.1623e-04\n",
      "Epoch 92/100\n",
      "31/31 [==============================] - 1s 24ms/step - loss: 6.5100 - lr: 3.5481e-04\n",
      "Epoch 93/100\n",
      "31/31 [==============================] - 1s 25ms/step - loss: 7.6200 - lr: 3.9811e-04\n",
      "Epoch 94/100\n",
      "31/31 [==============================] - 1s 26ms/step - loss: 9.1770 - lr: 4.4668e-04\n",
      "Epoch 95/100\n",
      "31/31 [==============================] - 1s 29ms/step - loss: 6.9028 - lr: 5.0119e-04\n",
      "Epoch 96/100\n",
      "31/31 [==============================] - 1s 28ms/step - loss: 9.0643 - lr: 5.6234e-04\n",
      "Epoch 97/100\n",
      "31/31 [==============================] - 1s 29ms/step - loss: 11.5386 - lr: 6.3096e-04\n",
      "Epoch 98/100\n",
      "31/31 [==============================] - 1s 29ms/step - loss: 17.7429 - lr: 7.0795e-04\n",
      "Epoch 99/100\n",
      "31/31 [==============================] - 1s 25ms/step - loss: 10.8536 - lr: 7.9433e-04\n",
      "Epoch 100/100\n",
      "31/31 [==============================] - 1s 23ms/step - loss: 8.6963 - lr: 8.9125e-04\n"
     ]
    }
   ],
   "source": [
    "# Set the learning rate scheduler\n",
    "lr_schedule = tf.keras.callbacks.LearningRateScheduler(\n",
    "    lambda epoch: 1e-8 * 10**(epoch / 20))\n",
    "\n",
    "# Initialize the optimizer\n",
    "optimizer = tf.keras.optimizers.SGD(momentum=0.9)\n",
    "\n",
    "# Set the training parameters\n",
    "model_tune.compile(loss=tf.keras.losses.Huber(), optimizer=optimizer)\n",
    "\n",
    "# Train the model\n",
    "history = model_tune.fit(dataset, epochs=100, callbacks=[lr_schedule])"
   ]
  },
  {
   "cell_type": "code",
   "execution_count": 10,
   "metadata": {
    "id": "AkBsrsXMzoWR"
   },
   "outputs": [
    {
     "data": {
      "text/plain": [
       "(1e-08, 0.001, 0.0, 30.0)"
      ]
     },
     "execution_count": 10,
     "metadata": {},
     "output_type": "execute_result"
    },
    {
     "data": {
      "image/png": "[encoded data removed]",
      "text/plain": [
       "<Figure size 720x432 with 1 Axes>"
      ]
     },
     "metadata": {
      "needs_background": "light"
     },
     "output_type": "display_data"
    }
   ],
   "source": [
    "# Define the learning rate array\n",
    "lrs = 1e-8 * (10 ** (np.arange(100) / 20))\n",
    "\n",
    "# Set the figure size\n",
    "plt.figure(figsize=(10, 6))\n",
    "\n",
    "# Set the grid\n",
    "plt.grid(True)\n",
    "\n",
    "# Plot the loss in log scale\n",
    "plt.semilogx(lrs, history.history[\"loss\"])\n",
    "\n",
    "# Increase the tickmarks size\n",
    "plt.tick_params('both', length=10, width=1, which='both')\n",
    "\n",
    "# Set the plot boundaries\n",
    "plt.axis([1e-8, 1e-3, 0, 30])"
   ]
  },
  {
   "cell_type": "markdown",
   "metadata": {
    "id": "i-lKNp4pq_w8"
   },
   "source": [
    "## Train the Model\n",
    "\n",
    "You can then proceed to train the model with your chosen learning rate. \n",
    "\n",
    "*Tip: When experimenting and you find yourself running different iterations of a model, you may want to use the [`clear_session()`](https://www.tensorflow.org/api_docs/python/tf/keras/backend/clear_session) method to declutter memory used by Keras. This is added in the first line below.*\n"
   ]
  },
  {
   "cell_type": "code",
   "execution_count": 11,
   "metadata": {
    "id": "4uh-97bpLZCA"
   },
   "outputs": [
    {
     "name": "stdout",
     "output_type": "stream",
     "text": [
      "Epoch 1/100\n",
      "31/31 [==============================] - 7s 22ms/step - loss: 27.9144 - mae: 28.4118\n",
      "Epoch 2/100\n",
      "31/31 [==============================] - 1s 22ms/step - loss: 10.8603 - mae: 11.3484\n",
      "Epoch 3/100\n",
      "31/31 [==============================] - 1s 22ms/step - loss: 9.5464 - mae: 10.0318\n",
      "Epoch 4/100\n",
      "31/31 [==============================] - 1s 24ms/step - loss: 8.8846 - mae: 9.3616\n",
      "Epoch 5/100\n",
      "31/31 [==============================] - 1s 27ms/step - loss: 8.3832 - mae: 8.8655\n",
      "Epoch 6/100\n",
      "31/31 [==============================] - 1s 25ms/step - loss: 7.8926 - mae: 8.3741\n",
      "Epoch 7/100\n",
      "31/31 [==============================] - 1s 22ms/step - loss: 7.4683 - mae: 7.9486\n",
      "Epoch 8/100\n",
      "31/31 [==============================] - 1s 21ms/step - loss: 7.2243 - mae: 7.7077\n",
      "Epoch 9/100\n",
      "31/31 [==============================] - 1s 23ms/step - loss: 6.9474 - mae: 7.4263\n",
      "Epoch 10/100\n",
      "31/31 [==============================] - 1s 22ms/step - loss: 6.7887 - mae: 7.2682\n",
      "Epoch 11/100\n",
      "31/31 [==============================] - 1s 23ms/step - loss: 6.6079 - mae: 7.0869\n",
      "Epoch 12/100\n",
      "31/31 [==============================] - 1s 21ms/step - loss: 6.5055 - mae: 6.9869\n",
      "Epoch 13/100\n",
      "31/31 [==============================] - 1s 22ms/step - loss: 6.3483 - mae: 6.8236\n",
      "Epoch 14/100\n",
      "31/31 [==============================] - 1s 21ms/step - loss: 6.2493 - mae: 6.7298\n",
      "Epoch 15/100\n",
      "31/31 [==============================] - 1s 21ms/step - loss: 6.1562 - mae: 6.6369\n",
      "Epoch 16/100\n",
      "31/31 [==============================] - 1s 22ms/step - loss: 6.0204 - mae: 6.4997\n",
      "Epoch 17/100\n",
      "31/31 [==============================] - 1s 21ms/step - loss: 5.9942 - mae: 6.4733\n",
      "Epoch 18/100\n",
      "31/31 [==============================] - 1s 22ms/step - loss: 5.9099 - mae: 6.3906\n",
      "Epoch 19/100\n",
      "31/31 [==============================] - 1s 23ms/step - loss: 5.9021 - mae: 6.3795\n",
      "Epoch 20/100\n",
      "31/31 [==============================] - 1s 21ms/step - loss: 5.7214 - mae: 6.2010\n",
      "Epoch 21/100\n",
      "31/31 [==============================] - 1s 21ms/step - loss: 5.6671 - mae: 6.1453\n",
      "Epoch 22/100\n",
      "31/31 [==============================] - 1s 21ms/step - loss: 5.6525 - mae: 6.1312\n",
      "Epoch 23/100\n",
      "31/31 [==============================] - 1s 23ms/step - loss: 5.6691 - mae: 6.1465\n",
      "Epoch 24/100\n",
      "31/31 [==============================] - 1s 21ms/step - loss: 5.6014 - mae: 6.0751\n",
      "Epoch 25/100\n",
      "31/31 [==============================] - 1s 22ms/step - loss: 5.5539 - mae: 6.0340\n",
      "Epoch 26/100\n",
      "31/31 [==============================] - 1s 18ms/step - loss: 5.4885 - mae: 5.9691\n",
      "Epoch 27/100\n",
      "31/31 [==============================] - 1s 18ms/step - loss: 5.5025 - mae: 5.9799\n",
      "Epoch 28/100\n",
      "31/31 [==============================] - 1s 18ms/step - loss: 5.4371 - mae: 5.9139\n",
      "Epoch 29/100\n",
      "31/31 [==============================] - 1s 19ms/step - loss: 5.4137 - mae: 5.8903\n",
      "Epoch 30/100\n",
      "31/31 [==============================] - 1s 19ms/step - loss: 5.4693 - mae: 5.9472\n",
      "Epoch 31/100\n",
      "31/31 [==============================] - 1s 19ms/step - loss: 5.3416 - mae: 5.8242\n",
      "Epoch 32/100\n",
      "31/31 [==============================] - 1s 18ms/step - loss: 5.3203 - mae: 5.8035\n",
      "Epoch 33/100\n",
      "31/31 [==============================] - 1s 17ms/step - loss: 5.2566 - mae: 5.7357\n",
      "Epoch 34/100\n",
      "31/31 [==============================] - 1s 17ms/step - loss: 5.2833 - mae: 5.7641\n",
      "Epoch 35/100\n",
      "31/31 [==============================] - 1s 18ms/step - loss: 5.4820 - mae: 5.9609\n",
      "Epoch 36/100\n",
      "31/31 [==============================] - 1s 18ms/step - loss: 5.2235 - mae: 5.7016\n",
      "Epoch 37/100\n",
      "31/31 [==============================] - 1s 21ms/step - loss: 5.2719 - mae: 5.7498\n",
      "Epoch 38/100\n",
      "31/31 [==============================] - 1s 20ms/step - loss: 5.1928 - mae: 5.6705\n",
      "Epoch 39/100\n",
      "31/31 [==============================] - 1s 22ms/step - loss: 5.1158 - mae: 5.5884\n",
      "Epoch 40/100\n",
      "31/31 [==============================] - 1s 19ms/step - loss: 5.1762 - mae: 5.6517\n",
      "Epoch 41/100\n",
      "31/31 [==============================] - 1s 20ms/step - loss: 5.0900 - mae: 5.5708\n",
      "Epoch 42/100\n",
      "31/31 [==============================] - 1s 19ms/step - loss: 5.0246 - mae: 5.4971\n",
      "Epoch 43/100\n",
      "31/31 [==============================] - 1s 24ms/step - loss: 5.1395 - mae: 5.6162\n",
      "Epoch 44/100\n",
      "31/31 [==============================] - 1s 21ms/step - loss: 5.1088 - mae: 5.5853\n",
      "Epoch 45/100\n",
      "31/31 [==============================] - 1s 22ms/step - loss: 5.0619 - mae: 5.5400\n",
      "Epoch 46/100\n",
      "31/31 [==============================] - 1s 19ms/step - loss: 4.9863 - mae: 5.4629\n",
      "Epoch 47/100\n",
      "31/31 [==============================] - 1s 21ms/step - loss: 4.9715 - mae: 5.4433\n",
      "Epoch 48/100\n",
      "31/31 [==============================] - 1s 20ms/step - loss: 5.0259 - mae: 5.4997\n",
      "Epoch 49/100\n",
      "31/31 [==============================] - 1s 20ms/step - loss: 4.9458 - mae: 5.4213\n",
      "Epoch 50/100\n",
      "31/31 [==============================] - 1s 21ms/step - loss: 5.0352 - mae: 5.5117\n",
      "Epoch 51/100\n",
      "31/31 [==============================] - 1s 19ms/step - loss: 4.9967 - mae: 5.4740\n",
      "Epoch 52/100\n",
      "31/31 [==============================] - 1s 19ms/step - loss: 4.9055 - mae: 5.3825\n",
      "Epoch 53/100\n",
      "31/31 [==============================] - 1s 21ms/step - loss: 4.9595 - mae: 5.4371\n",
      "Epoch 54/100\n",
      "31/31 [==============================] - 1s 19ms/step - loss: 4.8558 - mae: 5.3307\n",
      "Epoch 55/100\n",
      "31/31 [==============================] - 1s 19ms/step - loss: 4.8957 - mae: 5.3723\n",
      "Epoch 56/100\n",
      "31/31 [==============================] - 1s 18ms/step - loss: 4.8786 - mae: 5.3512\n",
      "Epoch 57/100\n",
      "31/31 [==============================] - 1s 18ms/step - loss: 4.9037 - mae: 5.3774\n",
      "Epoch 58/100\n",
      "31/31 [==============================] - 1s 19ms/step - loss: 4.8454 - mae: 5.3220\n",
      "Epoch 59/100\n",
      "31/31 [==============================] - 1s 19ms/step - loss: 4.7930 - mae: 5.2716\n",
      "Epoch 60/100\n",
      "31/31 [==============================] - 1s 21ms/step - loss: 4.8078 - mae: 5.2836\n",
      "Epoch 61/100\n",
      "31/31 [==============================] - 1s 18ms/step - loss: 4.9299 - mae: 5.4050\n",
      "Epoch 62/100\n",
      "31/31 [==============================] - 1s 18ms/step - loss: 4.8374 - mae: 5.3107\n",
      "Epoch 63/100\n",
      "31/31 [==============================] - 1s 18ms/step - loss: 4.7649 - mae: 5.2420\n",
      "Epoch 64/100\n",
      "31/31 [==============================] - 1s 20ms/step - loss: 4.7515 - mae: 5.2314\n",
      "Epoch 65/100\n",
      "31/31 [==============================] - 1s 20ms/step - loss: 4.8071 - mae: 5.2869\n",
      "Epoch 66/100\n",
      "31/31 [==============================] - 1s 19ms/step - loss: 4.7750 - mae: 5.2537\n",
      "Epoch 67/100\n",
      "31/31 [==============================] - 1s 19ms/step - loss: 4.7518 - mae: 5.2266\n",
      "Epoch 68/100\n",
      "31/31 [==============================] - 1s 18ms/step - loss: 4.7364 - mae: 5.2098\n",
      "Epoch 69/100\n",
      "31/31 [==============================] - 1s 18ms/step - loss: 4.7478 - mae: 5.2274\n",
      "Epoch 70/100\n",
      "31/31 [==============================] - 1s 18ms/step - loss: 4.6719 - mae: 5.1488\n",
      "Epoch 71/100\n",
      "31/31 [==============================] - 1s 18ms/step - loss: 4.7844 - mae: 5.2600\n",
      "Epoch 72/100\n",
      "31/31 [==============================] - 1s 19ms/step - loss: 4.7811 - mae: 5.2584\n",
      "Epoch 73/100\n",
      "31/31 [==============================] - 1s 18ms/step - loss: 4.6625 - mae: 5.1397\n",
      "Epoch 74/100\n",
      "31/31 [==============================] - 1s 18ms/step - loss: 4.6610 - mae: 5.1393\n",
      "Epoch 75/100\n",
      "31/31 [==============================] - 1s 18ms/step - loss: 4.7809 - mae: 5.2573\n",
      "Epoch 76/100\n",
      "31/31 [==============================] - 1s 18ms/step - loss: 4.7275 - mae: 5.2050\n",
      "Epoch 77/100\n",
      "31/31 [==============================] - 1s 18ms/step - loss: 4.6335 - mae: 5.1094\n",
      "Epoch 78/100\n",
      "31/31 [==============================] - 1s 18ms/step - loss: 4.6516 - mae: 5.1289\n",
      "Epoch 79/100\n",
      "31/31 [==============================] - 1s 18ms/step - loss: 4.7263 - mae: 5.2037\n",
      "Epoch 80/100\n",
      "31/31 [==============================] - 1s 18ms/step - loss: 4.8419 - mae: 5.3143\n",
      "Epoch 81/100\n",
      "31/31 [==============================] - 1s 18ms/step - loss: 4.6258 - mae: 5.1024\n",
      "Epoch 82/100\n",
      "31/31 [==============================] - 1s 18ms/step - loss: 4.5947 - mae: 5.0709\n",
      "Epoch 83/100\n",
      "31/31 [==============================] - 1s 20ms/step - loss: 4.6602 - mae: 5.1369\n",
      "Epoch 84/100\n",
      "31/31 [==============================] - 1s 20ms/step - loss: 4.7795 - mae: 5.2565\n",
      "Epoch 85/100\n",
      "31/31 [==============================] - 1s 20ms/step - loss: 4.8563 - mae: 5.3340\n",
      "Epoch 86/100\n",
      "31/31 [==============================] - 1s 20ms/step - loss: 4.6320 - mae: 5.1061\n",
      "Epoch 87/100\n",
      "31/31 [==============================] - 1s 23ms/step - loss: 4.5760 - mae: 5.0536\n",
      "Epoch 88/100\n",
      "31/31 [==============================] - 1s 19ms/step - loss: 4.5845 - mae: 5.0645\n",
      "Epoch 89/100\n",
      "31/31 [==============================] - 1s 19ms/step - loss: 4.5777 - mae: 5.0505\n",
      "Epoch 90/100\n",
      "31/31 [==============================] - 1s 18ms/step - loss: 4.5571 - mae: 5.0345\n",
      "Epoch 91/100\n",
      "31/31 [==============================] - 1s 21ms/step - loss: 4.5627 - mae: 5.0335\n",
      "Epoch 92/100\n",
      "31/31 [==============================] - 1s 21ms/step - loss: 4.5561 - mae: 5.0327\n",
      "Epoch 93/100\n",
      "31/31 [==============================] - 1s 19ms/step - loss: 4.5886 - mae: 5.0604\n",
      "Epoch 94/100\n",
      "31/31 [==============================] - 1s 19ms/step - loss: 4.5457 - mae: 5.0243\n",
      "Epoch 95/100\n",
      "31/31 [==============================] - 1s 19ms/step - loss: 4.5720 - mae: 5.0433\n",
      "Epoch 96/100\n",
      "31/31 [==============================] - 1s 19ms/step - loss: 4.6593 - mae: 5.1333\n",
      "Epoch 97/100\n",
      "31/31 [==============================] - 1s 20ms/step - loss: 4.6207 - mae: 5.0970\n",
      "Epoch 98/100\n",
      "31/31 [==============================] - 1s 19ms/step - loss: 4.5325 - mae: 5.0057\n",
      "Epoch 99/100\n",
      "31/31 [==============================] - 1s 18ms/step - loss: 4.5112 - mae: 4.9848\n",
      "Epoch 100/100\n",
      "31/31 [==============================] - 1s 18ms/step - loss: 4.6392 - mae: 5.1130\n"
     ]
    }
   ],
   "source": [
    "# Reset states generated by Keras\n",
    "tf.keras.backend.clear_session()\n",
    "\n",
    "# Build the model\n",
    "model = tf.keras.models.Sequential([\n",
    "  tf.keras.layers.Lambda(lambda x: tf.expand_dims(x, axis=-1),\n",
    "                      input_shape=[None]),\n",
    "   tf.keras.layers.Bidirectional(tf.keras.layers.LSTM(32, return_sequences=True)),\n",
    "  tf.keras.layers.Bidirectional(tf.keras.layers.LSTM(32)),\n",
    "  tf.keras.layers.Dense(1),\n",
    "  tf.keras.layers.Lambda(lambda x: x * 100.0)\n",
    "])\n",
    "\n",
    "# Set the learning rate\n",
    "learning_rate = 2e-6\n",
    "\n",
    "# Set the optimizer \n",
    "optimizer = tf.keras.optimizers.SGD(learning_rate=learning_rate, momentum=0.9)\n",
    "\n",
    "# Set the training parameters\n",
    "model.compile(loss=tf.keras.losses.Huber(),\n",
    "              optimizer=optimizer,\n",
    "              metrics=[\"mae\"])\n",
    "\n",
    "# Train the model\n",
    "history = model.fit(dataset,epochs=100)"
   ]
  },
  {
   "cell_type": "markdown",
   "metadata": {
    "id": "RjP4kbGiI7cw"
   },
   "source": [
    "## Model Prediction\n",
    "\n",
    "You will then generate batches of windows to generate predictions that align with the validation set."
   ]
  },
  {
   "cell_type": "code",
   "execution_count": 12,
   "metadata": {
    "id": "QO8cfKwKBBG6"
   },
   "outputs": [],
   "source": [
    "def model_forecast(model, series, window_size, batch_size):\n",
    "    \"\"\"Uses an input model to generate predictions on data windows\n",
    "\n",
    "    Args:\n",
    "      model (TF Keras Model) - model that accepts data windows\n",
    "      series (array of float) - contains the values of the time series\n",
    "      window_size (int) - the number of time steps to include in the window\n",
    "      batch_size (int) - the batch size\n",
    "\n",
    "    Returns:\n",
    "      forecast (numpy array) - array containing predictions\n",
    "    \"\"\"\n",
    "\n",
    "    # Generate a TF Dataset from the series values\n",
    "    dataset = tf.data.Dataset.from_tensor_slices(series)\n",
    "\n",
    "    # Window the data but only take those with the specified size\n",
    "    dataset = dataset.window(window_size, shift=1, drop_remainder=True)\n",
    "\n",
    "    # Flatten the windows by putting its elements in a single batch\n",
    "    dataset = dataset.flat_map(lambda w: w.batch(window_size))\n",
    "    \n",
    "    # Create batches of windows\n",
    "    dataset = dataset.batch(batch_size).prefetch(1)\n",
    "    \n",
    "    # Get predictions on the entire dataset\n",
    "    forecast = model.predict(dataset)\n",
    "    \n",
    "    return forecast"
   ]
  },
  {
   "cell_type": "code",
   "execution_count": 13,
   "metadata": {
    "id": "_plB3UseBD8o"
   },
   "outputs": [
    {
     "name": "stdout",
     "output_type": "stream",
     "text": [
      "15/15 [==============================] - 1s 8ms/step\n"
     ]
    },
    {
     "data": {
      "image/png": "[encoded data removed]",
      "text/plain": [
       "<Figure size 720x432 with 1 Axes>"
      ]
     },
     "metadata": {
      "needs_background": "light"
     },
     "output_type": "display_data"
    }
   ],
   "source": [
    "# Reduce the original series\n",
    "forecast_series = series[split_time-window_size:-1]\n",
    "\n",
    "# Use helper function to generate predictions\n",
    "forecast = model_forecast(model, forecast_series, window_size, batch_size)\n",
    "\n",
    "# Drop single dimensional axis\n",
    "results = forecast.squeeze()\n",
    "\n",
    "# Plot the results\n",
    "plot_series(time_valid, (x_valid, results))"
   ]
  },
  {
   "cell_type": "markdown",
   "metadata": {
    "id": "Nn8iSQkZtaRC"
   },
   "source": [
    "You can then generate the metrics to evaluate the model's performance."
   ]
  },
  {
   "cell_type": "code",
   "execution_count": 14,
   "metadata": {
    "id": "-IKhueZaBGID"
   },
   "outputs": [
    {
     "name": "stdout",
     "output_type": "stream",
     "text": [
      "79.20099\n",
      "6.4095964\n"
     ]
    }
   ],
   "source": [
    "# Compute the MSE and MAE\n",
    "print(tf.keras.metrics.mean_squared_error(x_valid, results).numpy())\n",
    "print(tf.keras.metrics.mean_absolute_error(x_valid, results).numpy())"
   ]
  },
  {
   "cell_type": "markdown",
   "metadata": {
    "id": "bzPIqeMWvbPy"
   },
   "source": [
    "## Wrap Up\n",
    "\n",
    "This concludes this short exercise on using LSTMs for time series forecasting. Next week, you will build upon this and add convolutions. Then, you will start to move away from synthetic data and use real-world datasets. See you there!"
   ]
  },
  {
   "cell_type": "markdown",
   "metadata": {
    "id": "U5PqTePGHeMH"
   },
   "source": [
    "## Optional: Including a Validation Set while Training\n",
    "\n",
    "Back in the first course of this specialization, you saw how you can also monitor the performance of your model against a validation set while training. You can also do that for this lab. \n",
    "\n",
    "First, you need to generate a `val_set` which are data windows and labels that your model can accept. You can simply reuse the `windowed_dataset` function for that and you can pass in the `x_valid` points to generate the windows."
   ]
  },
  {
   "cell_type": "code",
   "execution_count": 15,
   "metadata": {
    "id": "kvFVwL3PC4iX"
   },
   "outputs": [],
   "source": [
    "# Generate data windows of the validation set\n",
    "val_set = windowed_dataset(x_valid, window_size, batch_size, shuffle_buffer_size)"
   ]
  },
  {
   "cell_type": "markdown",
   "metadata": {
    "id": "p68j6XxEvP9K"
   },
   "source": [
    "You can then do the same training as before but pass in the `val_set` to the `validation_data` parameter of the `fit()` method."
   ]
  },
  {
   "cell_type": "code",
   "execution_count": 16,
   "metadata": {
    "id": "wujKz6tXDSn0"
   },
   "outputs": [
    {
     "name": "stdout",
     "output_type": "stream",
     "text": [
      "Epoch 1/100\n",
      "31/31 [==============================] - 8s 69ms/step - loss: 12.1726 - mae: 12.6620 - val_loss: 16.6617 - val_mae: 17.1559\n",
      "Epoch 2/100\n",
      "31/31 [==============================] - 1s 23ms/step - loss: 6.3546 - mae: 6.8385 - val_loss: 13.3298 - val_mae: 13.8218\n",
      "Epoch 3/100\n",
      "31/31 [==============================] - 1s 22ms/step - loss: 6.1769 - mae: 6.6544 - val_loss: 13.3466 - val_mae: 13.8399\n",
      "Epoch 4/100\n",
      "31/31 [==============================] - 1s 26ms/step - loss: 5.7970 - mae: 6.2796 - val_loss: 9.6858 - val_mae: 10.1749\n",
      "Epoch 5/100\n",
      "31/31 [==============================] - 1s 30ms/step - loss: 5.5848 - mae: 6.0668 - val_loss: 8.5088 - val_mae: 9.0002\n",
      "Epoch 6/100\n",
      "31/31 [==============================] - 1s 24ms/step - loss: 5.3712 - mae: 5.8516 - val_loss: 8.9562 - val_mae: 9.4433\n",
      "Epoch 7/100\n",
      "31/31 [==============================] - 1s 23ms/step - loss: 5.2357 - mae: 5.7168 - val_loss: 8.6546 - val_mae: 9.1403\n",
      "Epoch 8/100\n",
      "31/31 [==============================] - 1s 25ms/step - loss: 5.1868 - mae: 5.6659 - val_loss: 8.6035 - val_mae: 9.0883\n",
      "Epoch 9/100\n",
      "31/31 [==============================] - 1s 29ms/step - loss: 5.0906 - mae: 5.5700 - val_loss: 7.8077 - val_mae: 8.2963\n",
      "Epoch 10/100\n",
      "31/31 [==============================] - 1s 25ms/step - loss: 5.1805 - mae: 5.6597 - val_loss: 7.8745 - val_mae: 8.3642\n",
      "Epoch 11/100\n",
      "31/31 [==============================] - 1s 23ms/step - loss: 5.0178 - mae: 5.4944 - val_loss: 6.7969 - val_mae: 7.2841\n",
      "Epoch 12/100\n",
      "31/31 [==============================] - 1s 24ms/step - loss: 4.9976 - mae: 5.4680 - val_loss: 7.1041 - val_mae: 7.5888\n",
      "Epoch 13/100\n",
      "31/31 [==============================] - 1s 25ms/step - loss: 4.8783 - mae: 5.3568 - val_loss: 7.4054 - val_mae: 7.8846\n",
      "Epoch 14/100\n",
      "31/31 [==============================] - 1s 26ms/step - loss: 4.9759 - mae: 5.4554 - val_loss: 8.0454 - val_mae: 8.5326\n",
      "Epoch 15/100\n",
      "31/31 [==============================] - 1s 25ms/step - loss: 4.8795 - mae: 5.3583 - val_loss: 6.5052 - val_mae: 6.9876\n",
      "Epoch 16/100\n",
      "31/31 [==============================] - 1s 25ms/step - loss: 4.7956 - mae: 5.2731 - val_loss: 6.8114 - val_mae: 7.2971\n",
      "Epoch 17/100\n",
      "31/31 [==============================] - 1s 30ms/step - loss: 4.7951 - mae: 5.2650 - val_loss: 7.9989 - val_mae: 8.4892\n",
      "Epoch 18/100\n",
      "31/31 [==============================] - 1s 24ms/step - loss: 4.8142 - mae: 5.2873 - val_loss: 7.2409 - val_mae: 7.7235\n",
      "Epoch 19/100\n",
      "31/31 [==============================] - 1s 24ms/step - loss: 4.7152 - mae: 5.1922 - val_loss: 6.6620 - val_mae: 7.1420\n",
      "Epoch 20/100\n",
      "31/31 [==============================] - 1s 22ms/step - loss: 4.8901 - mae: 5.3692 - val_loss: 6.5565 - val_mae: 7.0376\n",
      "Epoch 21/100\n",
      "31/31 [==============================] - 1s 23ms/step - loss: 4.7425 - mae: 5.2190 - val_loss: 6.4085 - val_mae: 6.8882\n",
      "Epoch 22/100\n",
      "31/31 [==============================] - 1s 22ms/step - loss: 4.7193 - mae: 5.1966 - val_loss: 8.5698 - val_mae: 9.0575\n",
      "Epoch 23/100\n",
      "31/31 [==============================] - 1s 23ms/step - loss: 4.8274 - mae: 5.3077 - val_loss: 7.1041 - val_mae: 7.5872\n",
      "Epoch 24/100\n",
      "31/31 [==============================] - 1s 21ms/step - loss: 4.7493 - mae: 5.2264 - val_loss: 6.4506 - val_mae: 6.9283\n",
      "Epoch 25/100\n",
      "31/31 [==============================] - 1s 21ms/step - loss: 4.6642 - mae: 5.1411 - val_loss: 6.5320 - val_mae: 7.0078\n",
      "Epoch 26/100\n",
      "31/31 [==============================] - 1s 22ms/step - loss: 4.7207 - mae: 5.2032 - val_loss: 5.9502 - val_mae: 6.4292\n",
      "Epoch 27/100\n",
      "31/31 [==============================] - 1s 21ms/step - loss: 4.7178 - mae: 5.1965 - val_loss: 5.7955 - val_mae: 6.2783\n",
      "Epoch 28/100\n",
      "31/31 [==============================] - 1s 22ms/step - loss: 4.6215 - mae: 5.1014 - val_loss: 5.7198 - val_mae: 6.2011\n",
      "Epoch 29/100\n",
      "31/31 [==============================] - 1s 23ms/step - loss: 4.6441 - mae: 5.1214 - val_loss: 5.9434 - val_mae: 6.4228\n",
      "Epoch 30/100\n",
      "31/31 [==============================] - 1s 21ms/step - loss: 4.6473 - mae: 5.1241 - val_loss: 5.7921 - val_mae: 6.2771\n",
      "Epoch 31/100\n",
      "31/31 [==============================] - 1s 21ms/step - loss: 4.5966 - mae: 5.0711 - val_loss: 5.8672 - val_mae: 6.3460\n",
      "Epoch 32/100\n",
      "31/31 [==============================] - 1s 21ms/step - loss: 4.5638 - mae: 5.0397 - val_loss: 5.7137 - val_mae: 6.1986\n",
      "Epoch 33/100\n",
      "31/31 [==============================] - 1s 23ms/step - loss: 4.6176 - mae: 5.0943 - val_loss: 5.4947 - val_mae: 5.9729\n",
      "Epoch 34/100\n",
      "31/31 [==============================] - 1s 22ms/step - loss: 4.5965 - mae: 5.0780 - val_loss: 6.2333 - val_mae: 6.7117\n",
      "Epoch 35/100\n",
      "31/31 [==============================] - 1s 21ms/step - loss: 4.6175 - mae: 5.0942 - val_loss: 5.9045 - val_mae: 6.3795\n",
      "Epoch 36/100\n",
      "31/31 [==============================] - 1s 22ms/step - loss: 4.6373 - mae: 5.1125 - val_loss: 5.6350 - val_mae: 6.1181\n",
      "Epoch 37/100\n",
      "31/31 [==============================] - 1s 22ms/step - loss: 4.6005 - mae: 5.0754 - val_loss: 6.1499 - val_mae: 6.6287\n",
      "Epoch 38/100\n",
      "31/31 [==============================] - 1s 22ms/step - loss: 4.6542 - mae: 5.1298 - val_loss: 5.9410 - val_mae: 6.4202\n",
      "Epoch 39/100\n",
      "31/31 [==============================] - 1s 22ms/step - loss: 4.5221 - mae: 4.9982 - val_loss: 5.4894 - val_mae: 5.9766\n",
      "Epoch 40/100\n",
      "31/31 [==============================] - 1s 22ms/step - loss: 4.5488 - mae: 5.0228 - val_loss: 8.1679 - val_mae: 8.6614\n",
      "Epoch 41/100\n",
      "31/31 [==============================] - 1s 22ms/step - loss: 4.6252 - mae: 5.1033 - val_loss: 6.2121 - val_mae: 6.6908\n",
      "Epoch 42/100\n",
      "31/31 [==============================] - 1s 22ms/step - loss: 4.5233 - mae: 5.0019 - val_loss: 5.7170 - val_mae: 6.1965\n",
      "Epoch 43/100\n",
      "31/31 [==============================] - 1s 24ms/step - loss: 4.5351 - mae: 5.0155 - val_loss: 5.7419 - val_mae: 6.2233\n",
      "Epoch 44/100\n",
      "31/31 [==============================] - 1s 22ms/step - loss: 4.6376 - mae: 5.1146 - val_loss: 5.1429 - val_mae: 5.6200\n",
      "Epoch 45/100\n",
      "31/31 [==============================] - 1s 22ms/step - loss: 4.6226 - mae: 5.0999 - val_loss: 5.2588 - val_mae: 5.7376\n",
      "Epoch 46/100\n",
      "31/31 [==============================] - 1s 22ms/step - loss: 4.5326 - mae: 5.0084 - val_loss: 5.2793 - val_mae: 5.7580\n",
      "Epoch 47/100\n",
      "31/31 [==============================] - 1s 22ms/step - loss: 4.5786 - mae: 5.0550 - val_loss: 5.4527 - val_mae: 5.9380\n",
      "Epoch 48/100\n",
      "31/31 [==============================] - 1s 24ms/step - loss: 4.5801 - mae: 5.0572 - val_loss: 5.4310 - val_mae: 5.9117\n",
      "Epoch 49/100\n",
      "31/31 [==============================] - 1s 22ms/step - loss: 4.6074 - mae: 5.0831 - val_loss: 5.4728 - val_mae: 5.9567\n",
      "Epoch 50/100\n",
      "31/31 [==============================] - 1s 23ms/step - loss: 4.5271 - mae: 5.0045 - val_loss: 5.2452 - val_mae: 5.7254\n",
      "Epoch 51/100\n",
      "31/31 [==============================] - 1s 23ms/step - loss: 4.6534 - mae: 5.1307 - val_loss: 5.4002 - val_mae: 5.8879\n",
      "Epoch 52/100\n",
      "31/31 [==============================] - 1s 22ms/step - loss: 4.6396 - mae: 5.1151 - val_loss: 5.0740 - val_mae: 5.5440\n",
      "Epoch 53/100\n",
      "31/31 [==============================] - 1s 22ms/step - loss: 4.5552 - mae: 5.0307 - val_loss: 6.2237 - val_mae: 6.7041\n",
      "Epoch 54/100\n",
      "31/31 [==============================] - 1s 21ms/step - loss: 4.5087 - mae: 4.9835 - val_loss: 6.0783 - val_mae: 6.5590\n",
      "Epoch 55/100\n",
      "31/31 [==============================] - 1s 22ms/step - loss: 4.5157 - mae: 4.9949 - val_loss: 5.1973 - val_mae: 5.6782\n",
      "Epoch 56/100\n",
      "31/31 [==============================] - 1s 22ms/step - loss: 4.5142 - mae: 4.9933 - val_loss: 5.1627 - val_mae: 5.6425\n",
      "Epoch 57/100\n",
      "31/31 [==============================] - 1s 22ms/step - loss: 4.5239 - mae: 5.0017 - val_loss: 5.1974 - val_mae: 5.6768\n",
      "Epoch 58/100\n",
      "31/31 [==============================] - 1s 22ms/step - loss: 4.5101 - mae: 4.9861 - val_loss: 5.7208 - val_mae: 6.1996\n",
      "Epoch 59/100\n",
      "31/31 [==============================] - 1s 22ms/step - loss: 4.4917 - mae: 4.9703 - val_loss: 5.8524 - val_mae: 6.3336\n",
      "Epoch 60/100\n",
      "31/31 [==============================] - 1s 22ms/step - loss: 4.5084 - mae: 4.9850 - val_loss: 5.1700 - val_mae: 5.6504\n",
      "Epoch 61/100\n",
      "31/31 [==============================] - 1s 22ms/step - loss: 4.5117 - mae: 4.9865 - val_loss: 5.4356 - val_mae: 5.9165\n",
      "Epoch 62/100\n",
      "31/31 [==============================] - 1s 24ms/step - loss: 4.5266 - mae: 5.0029 - val_loss: 5.0554 - val_mae: 5.5277\n",
      "Epoch 63/100\n",
      "31/31 [==============================] - 1s 22ms/step - loss: 4.4613 - mae: 4.9359 - val_loss: 5.1613 - val_mae: 5.6418\n",
      "Epoch 64/100\n",
      "31/31 [==============================] - 1s 22ms/step - loss: 4.5926 - mae: 5.0698 - val_loss: 5.0607 - val_mae: 5.5356\n",
      "Epoch 65/100\n",
      "31/31 [==============================] - 1s 22ms/step - loss: 4.5397 - mae: 5.0167 - val_loss: 6.2547 - val_mae: 6.7380\n",
      "Epoch 66/100\n",
      "31/31 [==============================] - 1s 23ms/step - loss: 4.5094 - mae: 4.9867 - val_loss: 5.0446 - val_mae: 5.5217\n",
      "Epoch 67/100\n",
      "31/31 [==============================] - 1s 24ms/step - loss: 4.6067 - mae: 5.0791 - val_loss: 5.0211 - val_mae: 5.4937\n",
      "Epoch 68/100\n",
      "31/31 [==============================] - 1s 23ms/step - loss: 4.5603 - mae: 5.0347 - val_loss: 5.6204 - val_mae: 6.0992\n",
      "Epoch 69/100\n",
      "31/31 [==============================] - 1s 22ms/step - loss: 4.5457 - mae: 5.0225 - val_loss: 6.3012 - val_mae: 6.7834\n",
      "Epoch 70/100\n",
      "31/31 [==============================] - 1s 25ms/step - loss: 4.5503 - mae: 5.0243 - val_loss: 5.1761 - val_mae: 5.6535\n",
      "Epoch 71/100\n",
      "31/31 [==============================] - 1s 23ms/step - loss: 4.4862 - mae: 4.9600 - val_loss: 5.1496 - val_mae: 5.6285\n",
      "Epoch 72/100\n",
      "31/31 [==============================] - 1s 25ms/step - loss: 4.6148 - mae: 5.0887 - val_loss: 6.1888 - val_mae: 6.6720\n",
      "Epoch 73/100\n",
      "31/31 [==============================] - 1s 28ms/step - loss: 4.4680 - mae: 4.9423 - val_loss: 5.7093 - val_mae: 6.1891\n",
      "Epoch 74/100\n",
      "31/31 [==============================] - 1s 24ms/step - loss: 4.5704 - mae: 5.0483 - val_loss: 5.1885 - val_mae: 5.6659\n",
      "Epoch 75/100\n",
      "31/31 [==============================] - 1s 23ms/step - loss: 4.5396 - mae: 5.0174 - val_loss: 5.5583 - val_mae: 6.0393\n",
      "Epoch 76/100\n",
      "31/31 [==============================] - 1s 23ms/step - loss: 4.5380 - mae: 5.0168 - val_loss: 5.3932 - val_mae: 5.8748\n",
      "Epoch 77/100\n",
      "31/31 [==============================] - 1s 23ms/step - loss: 4.5275 - mae: 5.0033 - val_loss: 5.3184 - val_mae: 5.8011\n",
      "Epoch 78/100\n",
      "31/31 [==============================] - 1s 24ms/step - loss: 4.4780 - mae: 4.9583 - val_loss: 5.5770 - val_mae: 6.0563\n",
      "Epoch 79/100\n",
      "31/31 [==============================] - 1s 23ms/step - loss: 4.4664 - mae: 4.9438 - val_loss: 5.2589 - val_mae: 5.7371\n",
      "Epoch 80/100\n",
      "31/31 [==============================] - 1s 26ms/step - loss: 4.4282 - mae: 4.9005 - val_loss: 5.6536 - val_mae: 6.1343\n",
      "Epoch 81/100\n",
      "31/31 [==============================] - 1s 27ms/step - loss: 4.4753 - mae: 4.9504 - val_loss: 5.5095 - val_mae: 5.9910\n",
      "Epoch 82/100\n",
      "31/31 [==============================] - 1s 28ms/step - loss: 4.4603 - mae: 4.9401 - val_loss: 5.8755 - val_mae: 6.3552\n",
      "Epoch 83/100\n",
      "31/31 [==============================] - 1s 25ms/step - loss: 4.4720 - mae: 4.9458 - val_loss: 5.0056 - val_mae: 5.4847\n",
      "Epoch 84/100\n",
      "31/31 [==============================] - 1s 26ms/step - loss: 4.5789 - mae: 5.0556 - val_loss: 5.1145 - val_mae: 5.5928\n",
      "Epoch 85/100\n",
      "31/31 [==============================] - 1s 24ms/step - loss: 4.5458 - mae: 5.0204 - val_loss: 5.8561 - val_mae: 6.3387\n",
      "Epoch 86/100\n",
      "31/31 [==============================] - 1s 25ms/step - loss: 4.5247 - mae: 5.0004 - val_loss: 5.7014 - val_mae: 6.1818\n",
      "Epoch 87/100\n",
      "31/31 [==============================] - 1s 25ms/step - loss: 4.4675 - mae: 4.9474 - val_loss: 5.5477 - val_mae: 6.0285\n",
      "Epoch 88/100\n",
      "31/31 [==============================] - 1s 24ms/step - loss: 4.4859 - mae: 4.9641 - val_loss: 5.0085 - val_mae: 5.4853\n",
      "Epoch 89/100\n",
      "31/31 [==============================] - 1s 26ms/step - loss: 4.4802 - mae: 4.9581 - val_loss: 5.0122 - val_mae: 5.4879\n",
      "Epoch 90/100\n",
      "31/31 [==============================] - 1s 25ms/step - loss: 4.4797 - mae: 4.9577 - val_loss: 5.4759 - val_mae: 5.9565\n",
      "Epoch 91/100\n",
      "31/31 [==============================] - 1s 27ms/step - loss: 4.4387 - mae: 4.9176 - val_loss: 5.0984 - val_mae: 5.5771\n",
      "Epoch 92/100\n",
      "31/31 [==============================] - 1s 25ms/step - loss: 4.6112 - mae: 5.0881 - val_loss: 5.4197 - val_mae: 5.9007\n",
      "Epoch 93/100\n",
      "31/31 [==============================] - 1s 25ms/step - loss: 4.4611 - mae: 4.9318 - val_loss: 5.3686 - val_mae: 5.8489\n",
      "Epoch 94/100\n",
      "31/31 [==============================] - 1s 25ms/step - loss: 4.4576 - mae: 4.9370 - val_loss: 4.9793 - val_mae: 5.4558\n",
      "Epoch 95/100\n",
      "31/31 [==============================] - 1s 26ms/step - loss: 4.5237 - mae: 4.9961 - val_loss: 5.5392 - val_mae: 6.0200\n",
      "Epoch 96/100\n",
      "31/31 [==============================] - 1s 26ms/step - loss: 4.7974 - mae: 5.2737 - val_loss: 6.7759 - val_mae: 7.2546\n",
      "Epoch 97/100\n",
      "31/31 [==============================] - 1s 25ms/step - loss: 4.5592 - mae: 5.0330 - val_loss: 5.9329 - val_mae: 6.4156\n",
      "Epoch 98/100\n",
      "31/31 [==============================] - 1s 33ms/step - loss: 4.5859 - mae: 5.0624 - val_loss: 6.0588 - val_mae: 6.5424\n",
      "Epoch 99/100\n",
      "31/31 [==============================] - 1s 24ms/step - loss: 4.4369 - mae: 4.9165 - val_loss: 5.0299 - val_mae: 5.5100\n",
      "Epoch 100/100\n",
      "31/31 [==============================] - 1s 24ms/step - loss: 4.4743 - mae: 4.9450 - val_loss: 5.9687 - val_mae: 6.4519\n"
     ]
    }
   ],
   "source": [
    "# Reset states generated by Keras\n",
    "tf.keras.backend.clear_session()\n",
    "\n",
    "# Build the model\n",
    "model = tf.keras.models.Sequential([\n",
    "  tf.keras.layers.Lambda(lambda x: tf.expand_dims(x, axis=-1),\n",
    "                      input_shape=[None]),\n",
    "   tf.keras.layers.Bidirectional(tf.keras.layers.LSTM(32, return_sequences=True)),\n",
    "  tf.keras.layers.Bidirectional(tf.keras.layers.LSTM(32)),\n",
    "  tf.keras.layers.Dense(1),\n",
    "  tf.keras.layers.Lambda(lambda x: x * 100.0)\n",
    "])\n",
    "\n",
    "# Set the learning rate\n",
    "learning_rate = 2e-6\n",
    "\n",
    "# Set the optimizer \n",
    "optimizer = tf.keras.optimizers.SGD(learning_rate=learning_rate, momentum=0.9)\n",
    "\n",
    "# Set the training parameters\n",
    "model.compile(loss=tf.keras.losses.Huber(),\n",
    "              optimizer=optimizer,\n",
    "              metrics=[\"mae\"])\n",
    "\n",
    "# Train the model\n",
    "history = model.fit(dataset,epochs=100, validation_data=val_set)"
   ]
  }
 ],
 "metadata": {
  "accelerator": "GPU",
  "colab": {
   "collapsed_sections": [],
   "name": "C4_W3_Lab_2_LSTM.ipynb",
   "private_outputs": true,
   "provenance": []
  },
  "kernelspec": {
   "display_name": "Python 3.10.5 ('ML-TensorFlow')",
   "language": "python",
   "name": "python3"
  },
  "language_info": {
   "codemirror_mode": {
    "name": "ipython",
    "version": 3
   },
   "file_extension": ".py",
   "mimetype": "text/x-python",
   "name": "python",
   "nbconvert_exporter": "python",
   "pygments_lexer": "ipython3",
   "version": "3.10.9"
  },
  "vscode": {
   "interpreter": {
    "hash": "d1f66bc1465963b37814a3c70c368474aa589106cfea63a6b29249f75798022b"
   }
  }
 },
 "nbformat": 4,
 "nbformat_minor": 1
}
